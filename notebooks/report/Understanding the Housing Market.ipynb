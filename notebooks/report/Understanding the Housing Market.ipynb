{
 "cells": [
  {
   "cell_type": "markdown",
   "metadata": {},
   "source": [
    "## Introduction\n",
    "\n",
    "This analysis seeks to gather and prove valuable observations about the impact of various home attributes on its value. The project combines multiple publicly available datasets [made available](https://data.kingcounty.gov/) by King County. One dataset provides a record of home and land sales alongside various identifying feautres. The second dataset gives very granular data about housing in King County, going beyond just square footage to a breakdown by room, many identifying features such as porch size, and more. Combining these two datasets opens the door for the analysis to come. \n",
    "\n",
    "This notebook provides a somewhat condensed analysis compared to the full sequence necessary to understand the full details of choosing specific models and the nitty-gritty details. Please refer to the notebooks in the repository folder notebooks->exploratory if you would like to see a deep dive.\n",
    "\n",
    "### The Process\n",
    "1. Basic Setup and Data Assembly\n",
    "2. Data Aggregation and Cleaning\n",
    "3. Feature Selection and Creation\n",
    "4. The Model\n",
    "5. The Findings"
   ]
  },
  {
   "cell_type": "markdown",
   "metadata": {},
   "source": [
    "## 1. Basic Setup and Data Assembly"
   ]
  },
  {
   "cell_type": "code",
   "execution_count": 1,
   "metadata": {},
   "outputs": [],
   "source": [
    "# Import necessary packages\n",
    "import numpy as np\n",
    "import pandas as pd\n",
    "import sqlite3\n",
    "import os, sys\n",
    "\n",
    "# Import functions from a Python file in this repository with context-relevant functionality\n",
    "path_to_src = os.path.join('..', '..', 'src')\n",
    "sys.path.insert(1, path_to_src)\n",
    "from custom_functions import *\n",
    "pd.set_option('display.max_columns', 100)\n",
    "%load_ext autoreload\n",
    "%autoreload 2"
   ]
  },
  {
   "cell_type": "markdown",
   "metadata": {},
   "source": [
    "##### Import King County housing data"
   ]
  },
  {
   "cell_type": "code",
   "execution_count": 2,
   "metadata": {},
   "outputs": [],
   "source": [
    "# Read csv files from the data directory\n",
    "df_lookup = pd.read_csv(os.path.join('..','..', 'data', 'raw', 'EXTR_LookUp.csv'), dtype='str')\n",
    "df_resbldg = pd.read_csv(os.path.join('..','..', 'data', 'raw', 'EXTR_ResBldg.csv'), dtype='str')\n",
    "df_rpsale = pd.read_csv(os.path.join('..','..', 'data', 'raw', 'EXTR_RpSale.csv'), dtype='str')\n",
    "\n",
    "# Use the user-defined strip_spaces function to remove leading and trailing spaces from the entire dataframe\n",
    "df_lookup = strip_spaces(df_lookup)\n",
    "df_resbldg = strip_spaces(df_resbldg)\n",
    "df_rpsale = strip_spaces(df_rpsale)"
   ]
  },
  {
   "cell_type": "markdown",
   "metadata": {},
   "source": [
    "## 2. Data Aggregation and Cleaning"
   ]
  },
  {
   "cell_type": "markdown",
   "metadata": {},
   "source": [
    "### The Sales Database"
   ]
  },
  {
   "cell_type": "markdown",
   "metadata": {},
   "source": [
    "##### Eliminate unecessary data. After close investigation, the below columns were deemed the most worthy of continued analysis."
   ]
  },
  {
   "cell_type": "code",
   "execution_count": 3,
   "metadata": {},
   "outputs": [],
   "source": [
    "# Manual selection of the features of choice\n",
    "rpsale_desired_columns = ['ExciseTaxNbr', 'Major', 'Minor', 'DocumentDate', 'SalePrice', 'RecordingNbr', 'PropertyType', \n",
    "                          'PrincipalUse', 'SaleInstrument', 'AFForestLand', 'AFCurrentUseLand', 'AFNonProfitUse', \n",
    "                          'AFHistoricProperty', 'SaleReason', 'PropertyClass', 'SaleWarning']\n",
    "\n",
    "# Remove all columns that are not in the above lists\n",
    "df_rpsale = df_rpsale[rpsale_desired_columns].copy()"
   ]
  },
  {
   "cell_type": "markdown",
   "metadata": {},
   "source": [
    "##### Create identifier that will be used to connect the two dataframes. \n",
    "In this case, each database provides *Major* and *Minor*, which serve as location-specific identifiers. From here on, the combination of *Major* and *Minor* will simply be referred to as the *parcel*. Although there is often more than one sale associated with a parcel, this is a great place to start for narrowing down our search. The goal is to narrow down the *Sales* dataset to include only one sale per parcel. This allows for a connection with the second database, *Residential Buildings*. "
   ]
  },
  {
   "cell_type": "code",
   "execution_count": 4,
   "metadata": {},
   "outputs": [],
   "source": [
    "# Create ParcelID\n",
    "df_rpsale['Parcel_ID'] = df_rpsale.Major + '-' + df_rpsale.Minor"
   ]
  },
  {
   "cell_type": "markdown",
   "metadata": {},
   "source": [
    "#### The Sales Database\n",
    "Starting with some of the nitty gritty data selection"
   ]
  },
  {
   "cell_type": "code",
   "execution_count": 5,
   "metadata": {},
   "outputs": [],
   "source": [
    "# Select only sales for \"Residential\" plots, corresponding to code #6, as can be found in the data dictionary\n",
    "# This eliminates Commerical, Condominium, Apartment, etc.\n",
    "df_rpsale['PrincipalUse'] = elimination_by_code(df_rpsale['PrincipalUse'], '6')\n",
    "\n",
    "# PropertyClass is another distinction between Commerical/Industrial and Residential, as well as \n",
    "# other fundamental features. Code #8 corresponds to Residential Improved property\n",
    "df_rpsale['PropertyClass'] = elimination_by_code(df_rpsale['PropertyClass'], '8')\n",
    "\n",
    "# Yet another classification of property type. Code #11 corresponds to single family households\n",
    "# Here we eliminate multiple family residences, alongside many commercial uses\n",
    "df_rpsale['PropertyType'] = elimination_by_code(df_rpsale['PropertyType'], '11')\n",
    "df_rpsale.dropna(inplace=True)"
   ]
  },
  {
   "cell_type": "markdown",
   "metadata": {},
   "source": [
    "##### Limit scope to 2019 sales"
   ]
  },
  {
   "cell_type": "code",
   "execution_count": 6,
   "metadata": {},
   "outputs": [],
   "source": [
    "# Type conversion\n",
    "df_rpsale['DocumentDate'] = df_rpsale.DocumentDate.astype(np.datetime64)\n",
    "\n",
    "# Isolate SaleYear as its own column\n",
    "df_rpsale['SaleYear'] = [sale.year for sale in df_rpsale['DocumentDate']]\n",
    "\n",
    "# Eliminate rows corresponding to sales in a year other than 2019\n",
    "df_rpsale = df_rpsale.loc[df_rpsale['SaleYear']==2019].copy()"
   ]
  },
  {
   "cell_type": "markdown",
   "metadata": {},
   "source": [
    "##### Eliminate unrealistically small sales"
   ]
  },
  {
   "cell_type": "code",
   "execution_count": 7,
   "metadata": {},
   "outputs": [],
   "source": [
    "min_acceptable_sale_price = 25000\n",
    "df_rpsale['SalePrice'] = df_rpsale.SalePrice.astype('int')\n",
    "df_rpsale = df_rpsale.loc[df_rpsale.SalePrice > min_acceptable_sale_price].copy()"
   ]
  },
  {
   "cell_type": "markdown",
   "metadata": {},
   "source": [
    "##### Create column to identify duplicates, a necessary process before combining the two datasets"
   ]
  },
  {
   "cell_type": "code",
   "execution_count": 8,
   "metadata": {},
   "outputs": [],
   "source": [
    "df_rpsale['SaleCount'] = list(map(dict(df_rpsale.Parcel_ID.value_counts()).get, df_rpsale.Parcel_ID))"
   ]
  },
  {
   "cell_type": "markdown",
   "metadata": {},
   "source": [
    "##### Upon further inspection, there are still duplicates (cases of more than one sale of a given parcel in 2019)"
   ]
  },
  {
   "cell_type": "code",
   "execution_count": 9,
   "metadata": {},
   "outputs": [
    {
     "name": "stdout",
     "output_type": "stream",
     "text": [
      "1    17884\n",
      "2      682\n",
      "6        6\n",
      "3        6\n",
      "Name: SaleCount, dtype: int64\n"
     ]
    }
   ],
   "source": [
    "print(df_rpsale.SaleCount.value_counts())"
   ]
  },
  {
   "cell_type": "markdown",
   "metadata": {},
   "source": [
    "##### Eliminate sales that are not the most recent\n",
    "This eliminates the duplicated data issue of multiple sales in one year, bringing the dataset one step closer to a unique Parcel ID"
   ]
  },
  {
   "cell_type": "code",
   "execution_count": 10,
   "metadata": {},
   "outputs": [
    {
     "name": "stdout",
     "output_type": "stream",
     "text": [
      "1    18152\n",
      "2      152\n",
      "Name: SaleCount, dtype: int64\n"
     ]
    }
   ],
   "source": [
    "# User-defined function that returns True/False indicating whether a sale is the most recent for each parcel\n",
    "true_false = identify_latest_sale(df_rpsale.DocumentDate, df_rpsale.Parcel_ID)\n",
    "df_rpsale = df_rpsale.loc[true_false].copy()\n",
    "\n",
    "# Recalculate 'SaleCount' after removing old sales as described above\n",
    "df_rpsale['SaleCount'] = list(map(dict(df_rpsale.Parcel_ID.value_counts()).get, df_rpsale.Parcel_ID))\n",
    "print(df_rpsale.SaleCount.value_counts())"
   ]
  },
  {
   "cell_type": "markdown",
   "metadata": {},
   "source": [
    "##### The great majority of parcels are narrowed to one sale. For the remainders, take a simple approach: average the SalePrice for all sales on that parcel. \n",
    "Further inspection was done to verify that this is a valid way of dealing with outliers. For example, in many cases, the sales are of equal or nearly equal price. "
   ]
  },
  {
   "cell_type": "code",
   "execution_count": 11,
   "metadata": {},
   "outputs": [
    {
     "name": "stdout",
     "output_type": "stream",
     "text": [
      "1    18152\n",
      "2       76\n",
      "Name: SaleCount, dtype: int64\n"
     ]
    }
   ],
   "source": [
    "# User-defined function to return the average SalePrice for each parcel with more than one sale\n",
    "df_rpsale = avg_price_for_duped_parcels(df_rpsale)\n",
    "df_rpsale['SaleCount'] = list(map(dict(df_rpsale.Parcel_ID.value_counts()).get, df_rpsale.Parcel_ID))\n",
    "\n",
    "\n",
    "# Remove duplicates\n",
    "df_rpsale.index = df_rpsale.Parcel_ID.values\n",
    "df_rpsale = df_rpsale.drop_duplicates('Parcel_ID')\n",
    "\n",
    "# Verify no duplicates remain\n",
    "print(df_rpsale.SaleCount.value_counts())"
   ]
  },
  {
   "cell_type": "markdown",
   "metadata": {},
   "source": [
    "##### As a final step to cleaning *Sales* dataset, eliminate columns that are of no use going forward"
   ]
  },
  {
   "cell_type": "code",
   "execution_count": 12,
   "metadata": {},
   "outputs": [
    {
     "data": {
      "text/html": [
       "<div>\n",
       "<style scoped>\n",
       "    .dataframe tbody tr th:only-of-type {\n",
       "        vertical-align: middle;\n",
       "    }\n",
       "\n",
       "    .dataframe tbody tr th {\n",
       "        vertical-align: top;\n",
       "    }\n",
       "\n",
       "    .dataframe thead th {\n",
       "        text-align: right;\n",
       "    }\n",
       "</style>\n",
       "<table border=\"1\" class=\"dataframe\">\n",
       "  <thead>\n",
       "    <tr style=\"text-align: right;\">\n",
       "      <th></th>\n",
       "      <th>SalePrice</th>\n",
       "      <th>Parcel_ID</th>\n",
       "      <th>PropertyType</th>\n",
       "      <th>PrincipalUse</th>\n",
       "      <th>SaleInstrument</th>\n",
       "      <th>AFForestLand</th>\n",
       "      <th>AFCurrentUseLand</th>\n",
       "      <th>AFNonProfitUse</th>\n",
       "      <th>AFHistoricProperty</th>\n",
       "      <th>SaleReason</th>\n",
       "      <th>PropertyClass</th>\n",
       "      <th>SaleWarning</th>\n",
       "    </tr>\n",
       "  </thead>\n",
       "  <tbody>\n",
       "    <tr>\n",
       "      <th>213043-0120</th>\n",
       "      <td>560000</td>\n",
       "      <td>213043-0120</td>\n",
       "      <td>11</td>\n",
       "      <td>6</td>\n",
       "      <td>3</td>\n",
       "      <td>N</td>\n",
       "      <td>N</td>\n",
       "      <td>N</td>\n",
       "      <td>N</td>\n",
       "      <td>1</td>\n",
       "      <td>8</td>\n",
       "      <td></td>\n",
       "    </tr>\n",
       "    <tr>\n",
       "      <th>940652-0630</th>\n",
       "      <td>435000</td>\n",
       "      <td>940652-0630</td>\n",
       "      <td>11</td>\n",
       "      <td>6</td>\n",
       "      <td>3</td>\n",
       "      <td>N</td>\n",
       "      <td>N</td>\n",
       "      <td>N</td>\n",
       "      <td>N</td>\n",
       "      <td>1</td>\n",
       "      <td>8</td>\n",
       "      <td></td>\n",
       "    </tr>\n",
       "    <tr>\n",
       "      <th>347050-0040</th>\n",
       "      <td>648500</td>\n",
       "      <td>347050-0040</td>\n",
       "      <td>11</td>\n",
       "      <td>6</td>\n",
       "      <td>3</td>\n",
       "      <td>N</td>\n",
       "      <td>N</td>\n",
       "      <td>N</td>\n",
       "      <td>N</td>\n",
       "      <td>1</td>\n",
       "      <td>8</td>\n",
       "      <td></td>\n",
       "    </tr>\n",
       "    <tr>\n",
       "      <th>345960-0230</th>\n",
       "      <td>1255000</td>\n",
       "      <td>345960-0230</td>\n",
       "      <td>11</td>\n",
       "      <td>6</td>\n",
       "      <td>3</td>\n",
       "      <td>N</td>\n",
       "      <td>N</td>\n",
       "      <td>N</td>\n",
       "      <td>N</td>\n",
       "      <td>1</td>\n",
       "      <td>8</td>\n",
       "      <td>40</td>\n",
       "    </tr>\n",
       "    <tr>\n",
       "      <th>030200-0645</th>\n",
       "      <td>380000</td>\n",
       "      <td>030200-0645</td>\n",
       "      <td>11</td>\n",
       "      <td>6</td>\n",
       "      <td>3</td>\n",
       "      <td>N</td>\n",
       "      <td>N</td>\n",
       "      <td>N</td>\n",
       "      <td>N</td>\n",
       "      <td>1</td>\n",
       "      <td>8</td>\n",
       "      <td>10</td>\n",
       "    </tr>\n",
       "  </tbody>\n",
       "</table>\n",
       "</div>"
      ],
      "text/plain": [
       "             SalePrice    Parcel_ID PropertyType PrincipalUse SaleInstrument  \\\n",
       "213043-0120     560000  213043-0120           11            6              3   \n",
       "940652-0630     435000  940652-0630           11            6              3   \n",
       "347050-0040     648500  347050-0040           11            6              3   \n",
       "345960-0230    1255000  345960-0230           11            6              3   \n",
       "030200-0645     380000  030200-0645           11            6              3   \n",
       "\n",
       "            AFForestLand AFCurrentUseLand AFNonProfitUse AFHistoricProperty  \\\n",
       "213043-0120            N                N              N                  N   \n",
       "940652-0630            N                N              N                  N   \n",
       "347050-0040            N                N              N                  N   \n",
       "345960-0230            N                N              N                  N   \n",
       "030200-0645            N                N              N                  N   \n",
       "\n",
       "            SaleReason PropertyClass SaleWarning  \n",
       "213043-0120          1             8              \n",
       "940652-0630          1             8              \n",
       "347050-0040          1             8              \n",
       "345960-0230          1             8          40  \n",
       "030200-0645          1             8          10  "
      ]
     },
     "execution_count": 12,
     "metadata": {},
     "output_type": "execute_result"
    }
   ],
   "source": [
    "# Drop unused columns as final step of cleaning before join\n",
    "cols_to_keep = ['SalePrice', 'Parcel_ID', 'PropertyType', 'PrincipalUse', \n",
    "                'SaleInstrument', 'AFForestLand', 'AFCurrentUseLand', \n",
    "                'AFNonProfitUse', 'AFHistoricProperty', 'SaleReason', 'PropertyClass', 'SaleWarning']\n",
    "df_rpsale = df_rpsale[cols_to_keep].copy()\n",
    "df_rpsale.head(5)"
   ]
  },
  {
   "cell_type": "markdown",
   "metadata": {},
   "source": [
    "### The Buildings Database\n",
    "This dataset requires far less cleaning than *Sales* did. In this case, it is mostly eliminating columns that have been determined not valuable as well as converting to correct datatypes.\n",
    "\n",
    "##### Eliminate unecessary data. After close investigation, the below columns were deemed the most worthy of continued analysis."
   ]
  },
  {
   "cell_type": "code",
   "execution_count": 13,
   "metadata": {},
   "outputs": [],
   "source": [
    "# Manual selection of the features of choice\n",
    "resbldg_desired_columns = ['Major', 'Minor', 'NbrLivingUnits', 'Stories', 'BldgGrade', \n",
    "                           'BldgGradeVar', 'SqFt1stFloor', 'SqFtHalfFloor', 'SqFt2ndFloor',\n",
    "                           'SqFtUpperFloor', 'SqFtUnfinFull', 'SqFtUnfinHalf', 'SqFtTotLiving', 'SqFtTotBasement', \n",
    "                           'SqFtFinBasement', 'FinBasementGrade', 'SqFtGarageBasement', 'SqFtGarageAttached', \n",
    "                           'DaylightBasement','SqFtOpenPorch', 'SqFtEnclosedPorch', 'SqFtDeck', 'HeatSystem',\n",
    "                           'HeatSource', 'BrickStone', 'ViewUtilization', 'Bedrooms','BathHalfCount', \n",
    "                           'Bath3qtrCount', 'BathFullCount', 'FpSingleStory','FpMultiStory', 'FpFreestanding', \n",
    "                           'FpAdditional', 'YrBuilt','YrRenovated', 'PcntComplete', 'Obsolescence', \n",
    "                           'PcntNetCondition','Condition']\n",
    "\n",
    "\n",
    "# Remove all columns that are not in one of the above two lists.\n",
    "df_resbldg = df_resbldg[resbldg_desired_columns].copy()"
   ]
  },
  {
   "cell_type": "markdown",
   "metadata": {},
   "source": [
    "##### Create Parcel ID, which will map to Sales database "
   ]
  },
  {
   "cell_type": "code",
   "execution_count": 14,
   "metadata": {},
   "outputs": [],
   "source": [
    "# ParcelID is an aggregation of Major and Minor, as it was with the Sales database\n",
    "df_resbldg['Parcel_ID'] = df_resbldg.Major + '-' + df_resbldg.Minor"
   ]
  },
  {
   "cell_type": "markdown",
   "metadata": {},
   "source": [
    "##### Convert features to the appropriate data type"
   ]
  },
  {
   "cell_type": "code",
   "execution_count": 15,
   "metadata": {},
   "outputs": [],
   "source": [
    "# Convert each of these columns into integer format\n",
    "convert_to_int = ['SqFtOpenPorch', 'SqFtEnclosedPorch', 'Bedrooms', 'SqFtGarageAttached', 'SqFtGarageBasement', 'NbrLivingUnits', 'BldgGrade', 'SqFt1stFloor',\n",
    "                  'SqFtHalfFloor', 'SqFt2ndFloor', 'SqFtUpperFloor', 'SqFtUnfinFull', 'SqFtUnfinHalf','SqFtTotLiving', 'SqFtTotBasement', 'SqFtFinBasement', \n",
    "                  'FinBasementGrade', 'SqFtGarageBasement', 'SqFtGarageAttached', 'SqFtOpenPorch', 'SqFtEnclosedPorch', 'SqFtDeck', 'BathHalfCount', \n",
    "                  'Bath3qtrCount', 'BathFullCount', 'FpSingleStory', 'FpMultiStory', 'FpFreestanding', 'FpAdditional', 'YrBuilt', 'YrRenovated', 'BrickStone']\n",
    "\n",
    "# Loop over entire list\n",
    "for category in convert_to_int:\n",
    "    df_resbldg[category] = df_resbldg[category].astype('int')\n",
    "    \n",
    "    \n",
    "# Convert into float format\n",
    "df_resbldg['Stories'] = df_resbldg['Stories'].astype('float')\n",
    "\n",
    "# Nit-picky\n",
    "df_resbldg['DaylightBasement'] = df_resbldg['DaylightBasement'].str.upper() # Data cleaning for inconsistent casing\n",
    "df_resbldg = df_resbldg.loc[df_resbldg.PcntComplete.astype('str') == '0'].copy() # Remove buildings that aren't complete\n",
    "df_resbldg = df_resbldg.loc[df_resbldg.Obsolescence.astype('str') == '0'].copy() # Remove buildings in obsolescence process\n",
    "df_resbldg = df_resbldg.loc[df_resbldg.PcntNetCondition.astype('str') == '0'].copy() # Remove 6 outliers in abnormal condition"
   ]
  },
  {
   "cell_type": "markdown",
   "metadata": {},
   "source": [
    "### Combine *Sales* and *Buildings* datasets\n",
    "At long last: conduct join using SQL"
   ]
  },
  {
   "cell_type": "code",
   "execution_count": 16,
   "metadata": {},
   "outputs": [],
   "source": [
    "# Create a connection with a SQL DataBase file\n",
    "path_to_db = os.path.join('..', '..', 'data', 'main.db')\n",
    "connection = sqlite3.connect(path_to_db)\n",
    "df_resbldg.to_sql('buildings', connection, if_exists='replace')\n",
    "df_rpsale.to_sql('sales', connection, if_exists='replace')\n",
    "\n",
    "# Join Sales and Buildings data together\n",
    "query = '''SELECT * FROM buildings LEFT JOIN sales USING (Parcel_ID)'''\n",
    "df_main = pd.read_sql(query, connection)\n",
    "connection.close()"
   ]
  },
  {
   "cell_type": "markdown",
   "metadata": {},
   "source": [
    "##### Remove columns that are not of interest"
   ]
  },
  {
   "cell_type": "code",
   "execution_count": 17,
   "metadata": {},
   "outputs": [
    {
     "data": {
      "text/html": [
       "<div>\n",
       "<style scoped>\n",
       "    .dataframe tbody tr th:only-of-type {\n",
       "        vertical-align: middle;\n",
       "    }\n",
       "\n",
       "    .dataframe tbody tr th {\n",
       "        vertical-align: top;\n",
       "    }\n",
       "\n",
       "    .dataframe thead th {\n",
       "        text-align: right;\n",
       "    }\n",
       "</style>\n",
       "<table border=\"1\" class=\"dataframe\">\n",
       "  <thead>\n",
       "    <tr style=\"text-align: right;\">\n",
       "      <th></th>\n",
       "      <th>NbrLivingUnits</th>\n",
       "      <th>Stories</th>\n",
       "      <th>BldgGrade</th>\n",
       "      <th>SqFt1stFloor</th>\n",
       "      <th>SqFtHalfFloor</th>\n",
       "      <th>SqFt2ndFloor</th>\n",
       "      <th>SqFtUpperFloor</th>\n",
       "      <th>SqFtUnfinFull</th>\n",
       "      <th>SqFtUnfinHalf</th>\n",
       "      <th>SqFtTotLiving</th>\n",
       "      <th>SqFtTotBasement</th>\n",
       "      <th>SqFtFinBasement</th>\n",
       "      <th>FinBasementGrade</th>\n",
       "      <th>SqFtGarageBasement</th>\n",
       "      <th>SqFtGarageAttached</th>\n",
       "      <th>DaylightBasement</th>\n",
       "      <th>SqFtOpenPorch</th>\n",
       "      <th>SqFtEnclosedPorch</th>\n",
       "      <th>SqFtDeck</th>\n",
       "      <th>HeatSystem</th>\n",
       "      <th>HeatSource</th>\n",
       "      <th>BrickStone</th>\n",
       "      <th>ViewUtilization</th>\n",
       "      <th>Bedrooms</th>\n",
       "      <th>BathHalfCount</th>\n",
       "      <th>Bath3qtrCount</th>\n",
       "      <th>BathFullCount</th>\n",
       "      <th>FpSingleStory</th>\n",
       "      <th>FpMultiStory</th>\n",
       "      <th>FpFreestanding</th>\n",
       "      <th>FpAdditional</th>\n",
       "      <th>YrBuilt</th>\n",
       "      <th>YrRenovated</th>\n",
       "      <th>Condition</th>\n",
       "      <th>SalePrice</th>\n",
       "      <th>PropertyClass</th>\n",
       "    </tr>\n",
       "  </thead>\n",
       "  <tbody>\n",
       "    <tr>\n",
       "      <th>6</th>\n",
       "      <td>1</td>\n",
       "      <td>1.0</td>\n",
       "      <td>7</td>\n",
       "      <td>1480</td>\n",
       "      <td>0</td>\n",
       "      <td>0</td>\n",
       "      <td>0</td>\n",
       "      <td>0</td>\n",
       "      <td>0</td>\n",
       "      <td>1480</td>\n",
       "      <td>0</td>\n",
       "      <td>0</td>\n",
       "      <td>0</td>\n",
       "      <td>0</td>\n",
       "      <td>440</td>\n",
       "      <td></td>\n",
       "      <td>80</td>\n",
       "      <td>0</td>\n",
       "      <td>120</td>\n",
       "      <td>5</td>\n",
       "      <td>2</td>\n",
       "      <td>0</td>\n",
       "      <td></td>\n",
       "      <td>3</td>\n",
       "      <td>0</td>\n",
       "      <td>0</td>\n",
       "      <td>2</td>\n",
       "      <td>1</td>\n",
       "      <td>0</td>\n",
       "      <td>0</td>\n",
       "      <td>0</td>\n",
       "      <td>1994</td>\n",
       "      <td>0</td>\n",
       "      <td>5</td>\n",
       "      <td>445000.0</td>\n",
       "      <td>8</td>\n",
       "    </tr>\n",
       "    <tr>\n",
       "      <th>9</th>\n",
       "      <td>1</td>\n",
       "      <td>1.0</td>\n",
       "      <td>5</td>\n",
       "      <td>550</td>\n",
       "      <td>0</td>\n",
       "      <td>0</td>\n",
       "      <td>0</td>\n",
       "      <td>0</td>\n",
       "      <td>0</td>\n",
       "      <td>550</td>\n",
       "      <td>0</td>\n",
       "      <td>0</td>\n",
       "      <td>0</td>\n",
       "      <td>0</td>\n",
       "      <td>0</td>\n",
       "      <td></td>\n",
       "      <td>0</td>\n",
       "      <td>0</td>\n",
       "      <td>0</td>\n",
       "      <td>1</td>\n",
       "      <td>1</td>\n",
       "      <td>0</td>\n",
       "      <td></td>\n",
       "      <td>2</td>\n",
       "      <td>0</td>\n",
       "      <td>1</td>\n",
       "      <td>0</td>\n",
       "      <td>0</td>\n",
       "      <td>0</td>\n",
       "      <td>0</td>\n",
       "      <td>0</td>\n",
       "      <td>1942</td>\n",
       "      <td>0</td>\n",
       "      <td>3</td>\n",
       "      <td>188500.0</td>\n",
       "      <td>8</td>\n",
       "    </tr>\n",
       "    <tr>\n",
       "      <th>13</th>\n",
       "      <td>1</td>\n",
       "      <td>2.0</td>\n",
       "      <td>9</td>\n",
       "      <td>660</td>\n",
       "      <td>0</td>\n",
       "      <td>595</td>\n",
       "      <td>0</td>\n",
       "      <td>0</td>\n",
       "      <td>0</td>\n",
       "      <td>1540</td>\n",
       "      <td>380</td>\n",
       "      <td>285</td>\n",
       "      <td>8</td>\n",
       "      <td>0</td>\n",
       "      <td>0</td>\n",
       "      <td>Y</td>\n",
       "      <td>0</td>\n",
       "      <td>0</td>\n",
       "      <td>155</td>\n",
       "      <td>1</td>\n",
       "      <td>3</td>\n",
       "      <td>0</td>\n",
       "      <td>Y</td>\n",
       "      <td>3</td>\n",
       "      <td>1</td>\n",
       "      <td>1</td>\n",
       "      <td>1</td>\n",
       "      <td>0</td>\n",
       "      <td>1</td>\n",
       "      <td>0</td>\n",
       "      <td>0</td>\n",
       "      <td>1984</td>\n",
       "      <td>0</td>\n",
       "      <td>3</td>\n",
       "      <td>730000.0</td>\n",
       "      <td>8</td>\n",
       "    </tr>\n",
       "    <tr>\n",
       "      <th>17</th>\n",
       "      <td>1</td>\n",
       "      <td>1.0</td>\n",
       "      <td>8</td>\n",
       "      <td>1390</td>\n",
       "      <td>0</td>\n",
       "      <td>0</td>\n",
       "      <td>0</td>\n",
       "      <td>0</td>\n",
       "      <td>0</td>\n",
       "      <td>2780</td>\n",
       "      <td>1390</td>\n",
       "      <td>1390</td>\n",
       "      <td>7</td>\n",
       "      <td>0</td>\n",
       "      <td>0</td>\n",
       "      <td>Y</td>\n",
       "      <td>0</td>\n",
       "      <td>0</td>\n",
       "      <td>100</td>\n",
       "      <td>5</td>\n",
       "      <td>2</td>\n",
       "      <td>0</td>\n",
       "      <td>N</td>\n",
       "      <td>6</td>\n",
       "      <td>0</td>\n",
       "      <td>1</td>\n",
       "      <td>1</td>\n",
       "      <td>0</td>\n",
       "      <td>1</td>\n",
       "      <td>0</td>\n",
       "      <td>1</td>\n",
       "      <td>1967</td>\n",
       "      <td>0</td>\n",
       "      <td>3</td>\n",
       "      <td>1055700.0</td>\n",
       "      <td>8</td>\n",
       "    </tr>\n",
       "    <tr>\n",
       "      <th>22</th>\n",
       "      <td>1</td>\n",
       "      <td>1.0</td>\n",
       "      <td>8</td>\n",
       "      <td>1350</td>\n",
       "      <td>0</td>\n",
       "      <td>0</td>\n",
       "      <td>0</td>\n",
       "      <td>0</td>\n",
       "      <td>0</td>\n",
       "      <td>2230</td>\n",
       "      <td>1280</td>\n",
       "      <td>880</td>\n",
       "      <td>7</td>\n",
       "      <td>400</td>\n",
       "      <td>80</td>\n",
       "      <td>Y</td>\n",
       "      <td>40</td>\n",
       "      <td>0</td>\n",
       "      <td>100</td>\n",
       "      <td>5</td>\n",
       "      <td>3</td>\n",
       "      <td>0</td>\n",
       "      <td></td>\n",
       "      <td>3</td>\n",
       "      <td>0</td>\n",
       "      <td>0</td>\n",
       "      <td>2</td>\n",
       "      <td>1</td>\n",
       "      <td>0</td>\n",
       "      <td>0</td>\n",
       "      <td>0</td>\n",
       "      <td>2015</td>\n",
       "      <td>0</td>\n",
       "      <td>3</td>\n",
       "      <td>565000.0</td>\n",
       "      <td>8</td>\n",
       "    </tr>\n",
       "    <tr>\n",
       "      <th>...</th>\n",
       "      <td>...</td>\n",
       "      <td>...</td>\n",
       "      <td>...</td>\n",
       "      <td>...</td>\n",
       "      <td>...</td>\n",
       "      <td>...</td>\n",
       "      <td>...</td>\n",
       "      <td>...</td>\n",
       "      <td>...</td>\n",
       "      <td>...</td>\n",
       "      <td>...</td>\n",
       "      <td>...</td>\n",
       "      <td>...</td>\n",
       "      <td>...</td>\n",
       "      <td>...</td>\n",
       "      <td>...</td>\n",
       "      <td>...</td>\n",
       "      <td>...</td>\n",
       "      <td>...</td>\n",
       "      <td>...</td>\n",
       "      <td>...</td>\n",
       "      <td>...</td>\n",
       "      <td>...</td>\n",
       "      <td>...</td>\n",
       "      <td>...</td>\n",
       "      <td>...</td>\n",
       "      <td>...</td>\n",
       "      <td>...</td>\n",
       "      <td>...</td>\n",
       "      <td>...</td>\n",
       "      <td>...</td>\n",
       "      <td>...</td>\n",
       "      <td>...</td>\n",
       "      <td>...</td>\n",
       "      <td>...</td>\n",
       "      <td>...</td>\n",
       "    </tr>\n",
       "    <tr>\n",
       "      <th>178549</th>\n",
       "      <td>1</td>\n",
       "      <td>1.0</td>\n",
       "      <td>8</td>\n",
       "      <td>1290</td>\n",
       "      <td>0</td>\n",
       "      <td>0</td>\n",
       "      <td>0</td>\n",
       "      <td>0</td>\n",
       "      <td>0</td>\n",
       "      <td>1910</td>\n",
       "      <td>620</td>\n",
       "      <td>620</td>\n",
       "      <td>8</td>\n",
       "      <td>0</td>\n",
       "      <td>0</td>\n",
       "      <td>Y</td>\n",
       "      <td>70</td>\n",
       "      <td>0</td>\n",
       "      <td>100</td>\n",
       "      <td>5</td>\n",
       "      <td>2</td>\n",
       "      <td>0</td>\n",
       "      <td>N</td>\n",
       "      <td>3</td>\n",
       "      <td>1</td>\n",
       "      <td>1</td>\n",
       "      <td>1</td>\n",
       "      <td>0</td>\n",
       "      <td>0</td>\n",
       "      <td>0</td>\n",
       "      <td>0</td>\n",
       "      <td>1985</td>\n",
       "      <td>0</td>\n",
       "      <td>4</td>\n",
       "      <td>391000.0</td>\n",
       "      <td>8</td>\n",
       "    </tr>\n",
       "    <tr>\n",
       "      <th>178554</th>\n",
       "      <td>1</td>\n",
       "      <td>2.0</td>\n",
       "      <td>9</td>\n",
       "      <td>1410</td>\n",
       "      <td>0</td>\n",
       "      <td>1810</td>\n",
       "      <td>0</td>\n",
       "      <td>0</td>\n",
       "      <td>0</td>\n",
       "      <td>3220</td>\n",
       "      <td>0</td>\n",
       "      <td>0</td>\n",
       "      <td>0</td>\n",
       "      <td>0</td>\n",
       "      <td>630</td>\n",
       "      <td>N</td>\n",
       "      <td>0</td>\n",
       "      <td>0</td>\n",
       "      <td>0</td>\n",
       "      <td>5</td>\n",
       "      <td>2</td>\n",
       "      <td>0</td>\n",
       "      <td>N</td>\n",
       "      <td>4</td>\n",
       "      <td>0</td>\n",
       "      <td>0</td>\n",
       "      <td>3</td>\n",
       "      <td>1</td>\n",
       "      <td>0</td>\n",
       "      <td>0</td>\n",
       "      <td>0</td>\n",
       "      <td>2015</td>\n",
       "      <td>0</td>\n",
       "      <td>3</td>\n",
       "      <td>1535000.0</td>\n",
       "      <td>8</td>\n",
       "    </tr>\n",
       "    <tr>\n",
       "      <th>178577</th>\n",
       "      <td>1</td>\n",
       "      <td>1.5</td>\n",
       "      <td>7</td>\n",
       "      <td>830</td>\n",
       "      <td>130</td>\n",
       "      <td>0</td>\n",
       "      <td>0</td>\n",
       "      <td>0</td>\n",
       "      <td>0</td>\n",
       "      <td>960</td>\n",
       "      <td>0</td>\n",
       "      <td>0</td>\n",
       "      <td>0</td>\n",
       "      <td>0</td>\n",
       "      <td>420</td>\n",
       "      <td></td>\n",
       "      <td>110</td>\n",
       "      <td>0</td>\n",
       "      <td>0</td>\n",
       "      <td>5</td>\n",
       "      <td>2</td>\n",
       "      <td>0</td>\n",
       "      <td></td>\n",
       "      <td>3</td>\n",
       "      <td>0</td>\n",
       "      <td>0</td>\n",
       "      <td>1</td>\n",
       "      <td>1</td>\n",
       "      <td>0</td>\n",
       "      <td>0</td>\n",
       "      <td>0</td>\n",
       "      <td>1959</td>\n",
       "      <td>0</td>\n",
       "      <td>3</td>\n",
       "      <td>309000.0</td>\n",
       "      <td>8</td>\n",
       "    </tr>\n",
       "    <tr>\n",
       "      <th>178583</th>\n",
       "      <td>1</td>\n",
       "      <td>2.0</td>\n",
       "      <td>8</td>\n",
       "      <td>1250</td>\n",
       "      <td>0</td>\n",
       "      <td>760</td>\n",
       "      <td>0</td>\n",
       "      <td>0</td>\n",
       "      <td>0</td>\n",
       "      <td>2010</td>\n",
       "      <td>0</td>\n",
       "      <td>0</td>\n",
       "      <td>0</td>\n",
       "      <td>0</td>\n",
       "      <td>440</td>\n",
       "      <td>N</td>\n",
       "      <td>0</td>\n",
       "      <td>0</td>\n",
       "      <td>0</td>\n",
       "      <td>5</td>\n",
       "      <td>2</td>\n",
       "      <td>0</td>\n",
       "      <td>N</td>\n",
       "      <td>4</td>\n",
       "      <td>1</td>\n",
       "      <td>0</td>\n",
       "      <td>2</td>\n",
       "      <td>0</td>\n",
       "      <td>1</td>\n",
       "      <td>0</td>\n",
       "      <td>0</td>\n",
       "      <td>1987</td>\n",
       "      <td>0</td>\n",
       "      <td>4</td>\n",
       "      <td>759990.0</td>\n",
       "      <td>8</td>\n",
       "    </tr>\n",
       "    <tr>\n",
       "      <th>178605</th>\n",
       "      <td>1</td>\n",
       "      <td>3.0</td>\n",
       "      <td>8</td>\n",
       "      <td>220</td>\n",
       "      <td>0</td>\n",
       "      <td>510</td>\n",
       "      <td>380</td>\n",
       "      <td>0</td>\n",
       "      <td>0</td>\n",
       "      <td>1600</td>\n",
       "      <td>490</td>\n",
       "      <td>490</td>\n",
       "      <td>8</td>\n",
       "      <td>0</td>\n",
       "      <td>290</td>\n",
       "      <td></td>\n",
       "      <td>0</td>\n",
       "      <td>0</td>\n",
       "      <td>0</td>\n",
       "      <td>5</td>\n",
       "      <td>2</td>\n",
       "      <td>0</td>\n",
       "      <td></td>\n",
       "      <td>3</td>\n",
       "      <td>1</td>\n",
       "      <td>0</td>\n",
       "      <td>2</td>\n",
       "      <td>0</td>\n",
       "      <td>0</td>\n",
       "      <td>0</td>\n",
       "      <td>0</td>\n",
       "      <td>2007</td>\n",
       "      <td>0</td>\n",
       "      <td>3</td>\n",
       "      <td>849950.0</td>\n",
       "      <td>8</td>\n",
       "    </tr>\n",
       "  </tbody>\n",
       "</table>\n",
       "<p>18143 rows × 36 columns</p>\n",
       "</div>"
      ],
      "text/plain": [
       "        NbrLivingUnits  Stories  BldgGrade  SqFt1stFloor  SqFtHalfFloor  \\\n",
       "6                    1      1.0          7          1480              0   \n",
       "9                    1      1.0          5           550              0   \n",
       "13                   1      2.0          9           660              0   \n",
       "17                   1      1.0          8          1390              0   \n",
       "22                   1      1.0          8          1350              0   \n",
       "...                ...      ...        ...           ...            ...   \n",
       "178549               1      1.0          8          1290              0   \n",
       "178554               1      2.0          9          1410              0   \n",
       "178577               1      1.5          7           830            130   \n",
       "178583               1      2.0          8          1250              0   \n",
       "178605               1      3.0          8           220              0   \n",
       "\n",
       "        SqFt2ndFloor  SqFtUpperFloor  SqFtUnfinFull  SqFtUnfinHalf  \\\n",
       "6                  0               0              0              0   \n",
       "9                  0               0              0              0   \n",
       "13               595               0              0              0   \n",
       "17                 0               0              0              0   \n",
       "22                 0               0              0              0   \n",
       "...              ...             ...            ...            ...   \n",
       "178549             0               0              0              0   \n",
       "178554          1810               0              0              0   \n",
       "178577             0               0              0              0   \n",
       "178583           760               0              0              0   \n",
       "178605           510             380              0              0   \n",
       "\n",
       "        SqFtTotLiving  SqFtTotBasement  SqFtFinBasement  FinBasementGrade  \\\n",
       "6                1480                0                0                 0   \n",
       "9                 550                0                0                 0   \n",
       "13               1540              380              285                 8   \n",
       "17               2780             1390             1390                 7   \n",
       "22               2230             1280              880                 7   \n",
       "...               ...              ...              ...               ...   \n",
       "178549           1910              620              620                 8   \n",
       "178554           3220                0                0                 0   \n",
       "178577            960                0                0                 0   \n",
       "178583           2010                0                0                 0   \n",
       "178605           1600              490              490                 8   \n",
       "\n",
       "        SqFtGarageBasement  SqFtGarageAttached DaylightBasement  \\\n",
       "6                        0                 440                    \n",
       "9                        0                   0                    \n",
       "13                       0                   0                Y   \n",
       "17                       0                   0                Y   \n",
       "22                     400                  80                Y   \n",
       "...                    ...                 ...              ...   \n",
       "178549                   0                   0                Y   \n",
       "178554                   0                 630                N   \n",
       "178577                   0                 420                    \n",
       "178583                   0                 440                N   \n",
       "178605                   0                 290                    \n",
       "\n",
       "        SqFtOpenPorch  SqFtEnclosedPorch  SqFtDeck HeatSystem HeatSource  \\\n",
       "6                  80                  0       120          5          2   \n",
       "9                   0                  0         0          1          1   \n",
       "13                  0                  0       155          1          3   \n",
       "17                  0                  0       100          5          2   \n",
       "22                 40                  0       100          5          3   \n",
       "...               ...                ...       ...        ...        ...   \n",
       "178549             70                  0       100          5          2   \n",
       "178554              0                  0         0          5          2   \n",
       "178577            110                  0         0          5          2   \n",
       "178583              0                  0         0          5          2   \n",
       "178605              0                  0         0          5          2   \n",
       "\n",
       "        BrickStone ViewUtilization  Bedrooms  BathHalfCount  Bath3qtrCount  \\\n",
       "6                0                         3              0              0   \n",
       "9                0                         2              0              1   \n",
       "13               0               Y         3              1              1   \n",
       "17               0               N         6              0              1   \n",
       "22               0                         3              0              0   \n",
       "...            ...             ...       ...            ...            ...   \n",
       "178549           0               N         3              1              1   \n",
       "178554           0               N         4              0              0   \n",
       "178577           0                         3              0              0   \n",
       "178583           0               N         4              1              0   \n",
       "178605           0                         3              1              0   \n",
       "\n",
       "        BathFullCount  FpSingleStory  FpMultiStory  FpFreestanding  \\\n",
       "6                   2              1             0               0   \n",
       "9                   0              0             0               0   \n",
       "13                  1              0             1               0   \n",
       "17                  1              0             1               0   \n",
       "22                  2              1             0               0   \n",
       "...               ...            ...           ...             ...   \n",
       "178549              1              0             0               0   \n",
       "178554              3              1             0               0   \n",
       "178577              1              1             0               0   \n",
       "178583              2              0             1               0   \n",
       "178605              2              0             0               0   \n",
       "\n",
       "        FpAdditional  YrBuilt  YrRenovated Condition  SalePrice PropertyClass  \n",
       "6                  0     1994            0         5   445000.0             8  \n",
       "9                  0     1942            0         3   188500.0             8  \n",
       "13                 0     1984            0         3   730000.0             8  \n",
       "17                 1     1967            0         3  1055700.0             8  \n",
       "22                 0     2015            0         3   565000.0             8  \n",
       "...              ...      ...          ...       ...        ...           ...  \n",
       "178549             0     1985            0         4   391000.0             8  \n",
       "178554             0     2015            0         3  1535000.0             8  \n",
       "178577             0     1959            0         3   309000.0             8  \n",
       "178583             0     1987            0         4   759990.0             8  \n",
       "178605             0     2007            0         3   849950.0             8  \n",
       "\n",
       "[18143 rows x 36 columns]"
      ]
     },
     "execution_count": 17,
     "metadata": {},
     "output_type": "execute_result"
    }
   ],
   "source": [
    "cols_to_delete = ['Major', 'Minor', 'BldgGradeVar', 'PcntComplete', 'Obsolescence', 'PcntNetCondition', 'Parcel_ID', \n",
    "                  'index', 'PropertyType', 'PrincipalUse', 'SaleInstrument', 'AFForestLand', 'AFCurrentUseLand', 'AFNonProfitUse',\n",
    "                  'AFHistoricProperty', 'SaleReason', 'SaleWarning', 'index']\n",
    "\n",
    "df_main.drop(cols_to_delete, axis=1, inplace=True)\n",
    "df_main.dropna(inplace=True)\n",
    "df_main"
   ]
  },
  {
   "cell_type": "markdown",
   "metadata": {},
   "source": [
    "##### Limit study to homes with one living unit\n",
    "\n",
    "As can be seen below, nearly all of the remaining homes have only one living unit. For the sake of consistency, limit the analysis to only single-living unit homes."
   ]
  },
  {
   "cell_type": "code",
   "execution_count": 18,
   "metadata": {},
   "outputs": [
    {
     "name": "stdout",
     "output_type": "stream",
     "text": [
      "Number of homes in analysis, categorized by the number of living units:\n",
      "1    18001\n",
      "2      124\n",
      "3       18\n",
      "Name: NbrLivingUnits, dtype: int64\n"
     ]
    }
   ],
   "source": [
    "print('Number of homes in analysis, categorized by the number of living units:')\n",
    "print(df_main.NbrLivingUnits.value_counts())\n",
    "\n",
    "df_main = df_main.loc[df_main.NbrLivingUnits == 1].copy()"
   ]
  },
  {
   "cell_type": "markdown",
   "metadata": {},
   "source": [
    "## 3. Feature Selection and Creation\n",
    "Using the above data, categorical inputs will be one-hot encoded such that they can be useful components of the linear regression model. Note that additional variables will be removed along this process. For the sake of keeping this notebook brief, please refer to the exploratory notebooks for further investigation"
   ]
  },
  {
   "cell_type": "markdown",
   "metadata": {},
   "source": [
    "##### Understand Square Footage metrics and remove unnecessary or redundant data"
   ]
  },
  {
   "cell_type": "code",
   "execution_count": 19,
   "metadata": {},
   "outputs": [],
   "source": [
    "# Add two metrics that uncompass the same idea: unfinished area of the home\n",
    "df_main['SqFtUnfinished'] = df_main['SqFtUnfinFull'] + df_main['SqFtUnfinHalf']\n",
    "\n",
    "# # Additionally, create a metric for Unfinished basement space, which will be used to analyze finished vs unfinished basements \n",
    "df_main['SqFtUnfinBasement'] = df_main.SqFtTotBasement - df_main.SqFtFinBasement\n",
    "\n",
    "# Remove SquareFootage columns determined to be redundant\n",
    "sq_ft_cols_to_drop = ['SqFt1stFloor', 'SqFtHalfFloor', 'SqFtUpperFloor', 'SqFtUnfinFull', 'SqFtUnfinHalf', 'SqFt2ndFloor']\n",
    "df_main.drop(sq_ft_cols_to_drop, axis=1, inplace=True)"
   ]
  },
  {
   "cell_type": "markdown",
   "metadata": {},
   "source": [
    "##### Aggregate *Bathroom* data\n",
    "The original dataset puts bathrooms into three categories: Full, Half, and 3/4. The goal is to combine them into one column, Bathrooms. Method 1 is to count each bathroom the same, regardless of size. Method 2 is to assign them fractional counts based on their naming (1/2, 3/4). The below correlation plot shows that the results is nearly the same, a negligible difference. For the purposes of this analysis, we will use Method 2 so as to not ignore the difference in value that may be added by having a smaller bathroom (e.g. \"half bath\"). As we can see in the correlation plot below, the two methods are very highly correlated."
   ]
  },
  {
   "cell_type": "code",
   "execution_count": 20,
   "metadata": {},
   "outputs": [
    {
     "data": {
      "image/png": "[encoded data removed]",
      "text/plain": [
       "<Figure size 432x288 with 2 Axes>"
      ]
     },
     "metadata": {
      "needs_background": "light"
     },
     "output_type": "display_data"
    }
   ],
   "source": [
    "# Define Bathrooms for Method 1 and Method 2, as described above\n",
    "bathrooms_v1 = df_main[['BathHalfCount', 'Bath3qtrCount', 'BathFullCount']].sum(axis=1)\n",
    "bathrooms_v2 = df_main['BathHalfCount']/2 + df_main['Bath3qtrCount']*3/4 + df_main['BathFullCount']\n",
    "\n",
    "# Combine the two methods into one dataframe and visualize their correlation\n",
    "bathrooms = pd.concat([bathrooms_v1, bathrooms_v2], axis=1)\n",
    "bathrooms.columns = ['Method 1', 'Method 2']\n",
    "corr = bathrooms.corr()\n",
    "sns.heatmap(corr, annot=True)\n",
    "plt.title('Comparing Two Methods of Calculating the Total Bathrooms')\n",
    "\n",
    "# Remove columns that are now uncompassed by singluar \"Bathrooms\" feature\n",
    "bathroom_cols_to_drop = ['BathHalfCount', 'Bath3qtrCount', 'BathFullCount']\n",
    "df_main.drop(bathroom_cols_to_drop, axis=1, inplace=True)\n",
    "\n",
    "# Add \"Bathrooms\" feature, Method 2, to the main dataframe to continue the analysis\n",
    "df_main['Bathrooms'] = bathrooms_v2"
   ]
  },
  {
   "cell_type": "markdown",
   "metadata": {},
   "source": [
    "##### Aggregate *Fireplace* data\n",
    "Similar to Bathrooms, the original data source breaks down the number of Fireplaces into multiple categories: single story, multi-story, freestanding, and additional. The below code combines them into one final feature, corresponding to the total number of fireplaces. The correlation matrix is added to see how the *Total* correlates with *SalePrice*, as opposed to each individual. \n",
    "The results show the *Total Fireplaces* has a higher correlation with *SalePrice* than any of it's components. This shows that we're not ignoring potential important relationships, while also aggregating data that was disaggregated to an extent that it wouldn't be especially helpful as a result of the final analysis."
   ]
  },
  {
   "cell_type": "code",
   "execution_count": 21,
   "metadata": {},
   "outputs": [
    {
     "data": {
      "image/png": "[encoded data removed]",
      "text/plain": [
       "<Figure size 864x288 with 3 Axes>"
      ]
     },
     "metadata": {
      "needs_background": "light"
     },
     "output_type": "display_data"
    }
   ],
   "source": [
    "# Get all fireplace data in one spot and calculate the total\n",
    "fireplaces = df_main[['FpSingleStory', 'FpMultiStory', 'FpFreestanding', 'FpAdditional']].copy()\n",
    "fireplaces['FpTotal'] = fireplaces.sum(axis=1)\n",
    "\n",
    "# Reorder to make Correlation Matrix easier to understand\n",
    "fireplaces = fireplaces[['FpTotal', 'FpSingleStory', 'FpMultiStory', 'FpFreestanding', 'FpAdditional']]\n",
    "\n",
    "# Test correlation of Total with individuals\n",
    "corr = pd.concat([df_main.SalePrice, fireplaces], axis=1).corr()\n",
    "\n",
    "fig, axes = plt.subplots(nrows=1, ncols=2, figsize=(12, 4))\n",
    "\n",
    "sns.heatmap(corr, annot=True, ax=axes[0]);\n",
    "axes[0].set_title('Correlation of Fireplace Metrics with SalePrice')\n",
    "\n",
    "sns.distplot(fireplaces.FpTotal, ax=axes[1])\n",
    "axes[1].set_title('Total Fireplaces per Home')\n",
    "axes[1].set_ylabel('Number of Homes (Thousands)')\n",
    "\n",
    "\n",
    "# Drop columns determined to be less valuable\n",
    "fp_cols_to_drop = ['FpSingleStory', 'FpMultiStory', 'FpFreestanding', 'FpAdditional']\n",
    "df_main.drop(fp_cols_to_drop, axis=1, inplace=True)\n",
    "df_main['Fireplaces'] = fireplaces['FpTotal']"
   ]
  },
  {
   "cell_type": "markdown",
   "metadata": {},
   "source": [
    "### One-Hot Encoding\n",
    "For categorical features of interest, convert to one-hot encoded columns\n",
    "#### Encode HeatSystem"
   ]
  },
  {
   "cell_type": "code",
   "execution_count": 22,
   "metadata": {},
   "outputs": [
    {
     "name": "stdout",
     "output_type": "stream",
     "text": [
      "Original breakdown:\n",
      "ForcedAir    14062\n",
      "HeatPump      1529\n",
      "ElecBB        1091\n",
      "FloorWall      554\n",
      "HotWater       442\n",
      "Radiant        260\n",
      "Gravity         38\n",
      "Other           25\n",
      "Name: HeatSystem, dtype: int64\n"
     ]
    }
   ],
   "source": [
    "# Convert encoded values to text values to understand their meaning\n",
    "keys = get_lookups(108)\n",
    "convert_to_keys = lambda x: keys[str(int(x))].replace(\" \", \"\").replace('-','') if x!='0' else 'Other'\n",
    "heating = df_main.HeatSystem.apply(convert_to_keys)\n",
    "print('Original breakdown:\\n{}'.format(heating.value_counts()))"
   ]
  },
  {
   "cell_type": "markdown",
   "metadata": {},
   "source": [
    "##### Gravity heating is very uncommon. Lump it into the \"Other\" category"
   ]
  },
  {
   "cell_type": "code",
   "execution_count": 23,
   "metadata": {},
   "outputs": [
    {
     "name": "stdout",
     "output_type": "stream",
     "text": [
      "Improved categorization:\n",
      "ForcedAir    14062\n",
      "HeatPump      1529\n",
      "ElecBB        1091\n",
      "FloorWall      554\n",
      "HotWater       442\n",
      "Radiant        260\n",
      "Other           63\n",
      "Name: HeatSystem, dtype: int64\n"
     ]
    }
   ],
   "source": [
    "simplify = lambda x: 'Other' if x in ['Gravity'] else x\n",
    "heating = heating.apply(simplify)\n",
    "print('Improved categorization:\\n{}'.format(heating.value_counts()))"
   ]
  },
  {
   "cell_type": "markdown",
   "metadata": {},
   "source": [
    "##### One-hot encode remaining categories\n",
    "Drop the ForcedAir option. Since it is by far the most common, it will be considered the default option upon which to base alternatives"
   ]
  },
  {
   "cell_type": "code",
   "execution_count": 28,
   "metadata": {},
   "outputs": [
    {
     "data": {
      "text/html": [
       "<div>\n",
       "<style scoped>\n",
       "    .dataframe tbody tr th:only-of-type {\n",
       "        vertical-align: middle;\n",
       "    }\n",
       "\n",
       "    .dataframe tbody tr th {\n",
       "        vertical-align: top;\n",
       "    }\n",
       "\n",
       "    .dataframe thead th {\n",
       "        text-align: right;\n",
       "    }\n",
       "</style>\n",
       "<table border=\"1\" class=\"dataframe\">\n",
       "  <thead>\n",
       "    <tr style=\"text-align: right;\">\n",
       "      <th></th>\n",
       "      <th>Heating_ElecBB</th>\n",
       "      <th>Heating_FloorWall</th>\n",
       "      <th>Heating_ForcedAir</th>\n",
       "      <th>Heating_HeatPump</th>\n",
       "      <th>Heating_HotWater</th>\n",
       "      <th>Heating_Other</th>\n",
       "      <th>Heating_Radiant</th>\n",
       "    </tr>\n",
       "  </thead>\n",
       "  <tbody>\n",
       "    <tr>\n",
       "      <th>6</th>\n",
       "      <td>0</td>\n",
       "      <td>0</td>\n",
       "      <td>1</td>\n",
       "      <td>0</td>\n",
       "      <td>0</td>\n",
       "      <td>0</td>\n",
       "      <td>0</td>\n",
       "    </tr>\n",
       "    <tr>\n",
       "      <th>9</th>\n",
       "      <td>0</td>\n",
       "      <td>1</td>\n",
       "      <td>0</td>\n",
       "      <td>0</td>\n",
       "      <td>0</td>\n",
       "      <td>0</td>\n",
       "      <td>0</td>\n",
       "    </tr>\n",
       "    <tr>\n",
       "      <th>13</th>\n",
       "      <td>0</td>\n",
       "      <td>1</td>\n",
       "      <td>0</td>\n",
       "      <td>0</td>\n",
       "      <td>0</td>\n",
       "      <td>0</td>\n",
       "      <td>0</td>\n",
       "    </tr>\n",
       "    <tr>\n",
       "      <th>17</th>\n",
       "      <td>0</td>\n",
       "      <td>0</td>\n",
       "      <td>1</td>\n",
       "      <td>0</td>\n",
       "      <td>0</td>\n",
       "      <td>0</td>\n",
       "      <td>0</td>\n",
       "    </tr>\n",
       "    <tr>\n",
       "      <th>22</th>\n",
       "      <td>0</td>\n",
       "      <td>0</td>\n",
       "      <td>1</td>\n",
       "      <td>0</td>\n",
       "      <td>0</td>\n",
       "      <td>0</td>\n",
       "      <td>0</td>\n",
       "    </tr>\n",
       "    <tr>\n",
       "      <th>...</th>\n",
       "      <td>...</td>\n",
       "      <td>...</td>\n",
       "      <td>...</td>\n",
       "      <td>...</td>\n",
       "      <td>...</td>\n",
       "      <td>...</td>\n",
       "      <td>...</td>\n",
       "    </tr>\n",
       "    <tr>\n",
       "      <th>178549</th>\n",
       "      <td>0</td>\n",
       "      <td>0</td>\n",
       "      <td>1</td>\n",
       "      <td>0</td>\n",
       "      <td>0</td>\n",
       "      <td>0</td>\n",
       "      <td>0</td>\n",
       "    </tr>\n",
       "    <tr>\n",
       "      <th>178554</th>\n",
       "      <td>0</td>\n",
       "      <td>0</td>\n",
       "      <td>1</td>\n",
       "      <td>0</td>\n",
       "      <td>0</td>\n",
       "      <td>0</td>\n",
       "      <td>0</td>\n",
       "    </tr>\n",
       "    <tr>\n",
       "      <th>178577</th>\n",
       "      <td>0</td>\n",
       "      <td>0</td>\n",
       "      <td>1</td>\n",
       "      <td>0</td>\n",
       "      <td>0</td>\n",
       "      <td>0</td>\n",
       "      <td>0</td>\n",
       "    </tr>\n",
       "    <tr>\n",
       "      <th>178583</th>\n",
       "      <td>0</td>\n",
       "      <td>0</td>\n",
       "      <td>1</td>\n",
       "      <td>0</td>\n",
       "      <td>0</td>\n",
       "      <td>0</td>\n",
       "      <td>0</td>\n",
       "    </tr>\n",
       "    <tr>\n",
       "      <th>178605</th>\n",
       "      <td>0</td>\n",
       "      <td>0</td>\n",
       "      <td>1</td>\n",
       "      <td>0</td>\n",
       "      <td>0</td>\n",
       "      <td>0</td>\n",
       "      <td>0</td>\n",
       "    </tr>\n",
       "  </tbody>\n",
       "</table>\n",
       "<p>18001 rows × 7 columns</p>\n",
       "</div>"
      ],
      "text/plain": [
       "        Heating_ElecBB  Heating_FloorWall  Heating_ForcedAir  \\\n",
       "6                    0                  0                  1   \n",
       "9                    0                  1                  0   \n",
       "13                   0                  1                  0   \n",
       "17                   0                  0                  1   \n",
       "22                   0                  0                  1   \n",
       "...                ...                ...                ...   \n",
       "178549               0                  0                  1   \n",
       "178554               0                  0                  1   \n",
       "178577               0                  0                  1   \n",
       "178583               0                  0                  1   \n",
       "178605               0                  0                  1   \n",
       "\n",
       "        Heating_HeatPump  Heating_HotWater  Heating_Other  Heating_Radiant  \n",
       "6                      0                 0              0                0  \n",
       "9                      0                 0              0                0  \n",
       "13                     0                 0              0                0  \n",
       "17                     0                 0              0                0  \n",
       "22                     0                 0              0                0  \n",
       "...                  ...               ...            ...              ...  \n",
       "178549                 0                 0              0                0  \n",
       "178554                 0                 0              0                0  \n",
       "178577                 0                 0              0                0  \n",
       "178583                 0                 0              0                0  \n",
       "178605                 0                 0              0                0  \n",
       "\n",
       "[18001 rows x 7 columns]"
      ]
     },
     "execution_count": 28,
     "metadata": {},
     "output_type": "execute_result"
    }
   ],
   "source": [
    "heating_dummies"
   ]
  },
  {
   "cell_type": "code",
   "execution_count": 31,
   "metadata": {},
   "outputs": [],
   "source": [
    "# Create dummies\n",
    "heating_dummies = pd.get_dummies(heating, prefix='Heating', drop_first=False)\n",
    "\n",
    "# Drop ForcedAir instead of whatever happens to be the first column\n",
    "heating_dummies.drop('Heating_ForcedAir', axis=1, inplace=True) \n",
    "\n",
    "#Adjust df_main accordingly\n",
    "df_main = pd.concat([df_main, heating_dummies], axis=1)\n",
    "df_main.drop(['HeatSystem', 'Heating_Other'], axis=1, inplace=True)\n",
    "df_main = pd.concat([df_main, heating_dummies], axis=1)"
   ]
  },
  {
   "cell_type": "markdown",
   "metadata": {},
   "source": [
    "#### Encode Condition\n",
    "Follow process similar to HeatSystem to represent categorical *Condition* feature. Drop the *Average* option since it is naturally a baseline"
   ]
  },
  {
   "cell_type": "code",
   "execution_count": 71,
   "metadata": {},
   "outputs": [],
   "source": [
    "# Convert numerical encoding to actual values\n",
    "keys = get_lookups(83)\n",
    "convert_to_keys = lambda x: keys[x].replace(' ', '')\n",
    "condition = df_main.Condition.apply(convert_to_keys)"
   ]
  },
  {
   "cell_type": "markdown",
   "metadata": {},
   "source": [
    "##### Plot a breakdown to show commonality of categories"
   ]
  },
  {
   "cell_type": "code",
   "execution_count": 70,
   "metadata": {},
   "outputs": [
    {
     "data": {
      "image/png": "[encoded data removed]",
      "text/plain": [
       "<Figure size 432x288 with 1 Axes>"
      ]
     },
     "metadata": {
      "needs_background": "light"
     },
     "output_type": "display_data"
    }
   ],
   "source": [
    "condition_cts = pd.DataFrame(condition.value_counts()).T.reset_index(drop=True)\n",
    "condition_cts = condition_cts[['Poor', 'Fair', 'Average', 'Good', 'VeryGood']].T #Reorder\n",
    "plt.bar(condition_cts.index, condition_cts.iloc[:, 0])\n",
    "plt.title('Commonality of \"Condition\" Classifications')\n",
    "plt.ylabel('Number of Homes');"
   ]
  },
  {
   "cell_type": "markdown",
   "metadata": {},
   "source": [
    "##### One-hot encode Condition"
   ]
  },
  {
   "cell_type": "code",
   "execution_count": 72,
   "metadata": {},
   "outputs": [],
   "source": [
    "# Create dummies\n",
    "condition_dummies = pd.get_dummies(condition, prefix='Condition', drop_first=False)\n",
    "\n",
    "# Drop Average instead of whatever happens to be the first column\n",
    "condition_dummies.drop('Condition_Average', axis=1, inplace=True)\n",
    "\n",
    "#Adjust df_main accordingly\n",
    "df_main.drop('Condition', axis=1, inplace=True)\n",
    "df_main = pd.concat([df_main, condition_dummies], axis=1)"
   ]
  },
  {
   "cell_type": "markdown",
   "metadata": {},
   "source": [
    "#### Encode Porch\n",
    "By default, the information given about porches is given in square feet. Instead of looking at the impact of porch size, we will investigate whether its presence impacts SalePrice. Encoded as either enclosed, open, both, or neither. The default will be \"neither\", and as a result we will drop that column once encoded."
   ]
  },
  {
   "cell_type": "code",
   "execution_count": 83,
   "metadata": {},
   "outputs": [],
   "source": [
    "# Create separate DataFrame to temporarily hold Porch data\n",
    "porches = df_main[['SqFtOpenPorch', 'SqFtEnclosedPorch']].copy()\n",
    "porches.columns = ['Open', 'Encl']\n",
    "\n",
    "classify_porches = lambda x: 'Both' if ((x.Open>0)&(x.Encl>0)) else 'Open' if x.Open>0 else 'Closed' if x.Encl>0 else 'None'\n",
    "porches['Porch'] = porches.apply(classify_porches, axis=1)"
   ]
  },
  {
   "cell_type": "markdown",
   "metadata": {},
   "source": [
    "##### Visualize the commonality of Porches\n",
    "As we can see, Open porches are by far the most common type, but it is just as common for a home to not have a porch at all."
   ]
  },
  {
   "cell_type": "code",
   "execution_count": 92,
   "metadata": {},
   "outputs": [
    {
     "name": "stdout",
     "output_type": "stream",
     "text": [
      "Commonality of Porches\n",
      "         Porch\n",
      "Open     8732\n",
      "None     8532\n",
      "Closed    417\n",
      "Both      320\n"
     ]
    },
    {
     "data": {
      "image/png": "[encoded data removed]",
      "text/plain": [
       "<Figure size 432x288 with 1 Axes>"
      ]
     },
     "metadata": {
      "needs_background": "light"
     },
     "output_type": "display_data"
    }
   ],
   "source": [
    "porch_cts = pd.DataFrame(porches.Porch.value_counts())\n",
    "\n",
    "print('Commonality of Porches\\n', porch_cts)\n",
    "plt.bar(porch_cts.index, porch_cts.Porch)\n",
    "plt.title('Commonality of \"Porch\" Types')\n",
    "plt.ylabel('Number of Homes');"
   ]
  },
  {
   "cell_type": "markdown",
   "metadata": {},
   "source": [
    "##### One-hot encode Porch types"
   ]
  },
  {
   "cell_type": "code",
   "execution_count": 93,
   "metadata": {},
   "outputs": [],
   "source": [
    "porches_dummies = pd.get_dummies(porches['Porch'], prefix='Porch', drop_first=False)\n",
    "porches_dummies.drop('Porch_None', axis=1, inplace=True)\n",
    "\n",
    "# Adjust df_main accordingly\n",
    "df_main = pd.concat([df_main, porches_dummies], axis=1)\n",
    "df_main.drop(['SqFtOpenPorch', 'SqFtEnclosedPorch'], axis=1, inplace=True)"
   ]
  },
  {
   "cell_type": "markdown",
   "metadata": {},
   "source": [
    "#### Create binary column for whether a home has been renovated"
   ]
  },
  {
   "cell_type": "code",
   "execution_count": null,
   "metadata": {},
   "outputs": [],
   "source": [
    "df_main.loc[df_main.YrRenovated>0, 'YrRenovated'].hist()\n",
    "df_main.YrRenovated.hist()\n",
    "encode = lambda x: 1 if x>0 else 0\n",
    "df_main['Renovated'] = df_main.YrRenovated.apply(encode)"
   ]
  },
  {
   "cell_type": "code",
   "execution_count": 102,
   "metadata": {},
   "outputs": [
    {
     "data": {
      "image/png": "[encoded data removed]",
      "text/plain": [
       "<Figure size 864x288 with 2 Axes>"
      ]
     },
     "metadata": {
      "needs_background": "light"
     },
     "output_type": "display_data"
    }
   ],
   "source": [
    "fig, axes = plt.subplots(nrows=1, ncols=2, figsize=(12, 4))\n",
    "\n",
    "axes[0].hist(df_main.YrRenovated)\n",
    "axes[0].set_title(\"Year Renovated (Zero Indicates Never Renovated)\")\n",
    "axes[0].set_ylabel('Number of Homes');\n",
    "\n",
    "axes[1].hist(df_main.loc[df_main.YrRenovated>0, 'YrRenovated'])\n",
    "axes[1].set_title('Year Renovated *For Homes That Have Been Renovated*')\n",
    "axes[1].set_ylabel('Number of Homes');"
   ]
  },
  {
   "cell_type": "markdown",
   "metadata": {},
   "source": [
    "##### Add binary indication of renovation (1 = \"yes\", 0 = \"no)"
   ]
  },
  {
   "cell_type": "code",
   "execution_count": 103,
   "metadata": {},
   "outputs": [],
   "source": [
    "encode = lambda x: 1 if x>0 else 0\n",
    "df_main['Renovated'] = df_main.YrRenovated.apply(encode)"
   ]
  },
  {
   "cell_type": "markdown",
   "metadata": {},
   "source": [
    "#### Create binary column for whether a home's basement is finished"
   ]
  },
  {
   "cell_type": "code",
   "execution_count": 110,
   "metadata": {},
   "outputs": [],
   "source": [
    "basement = df_main[['SqFtFinBasement', 'SqFtUnfinBasement']].copy()\n",
    "basement.columns = ['fin', 'unfin']\n",
    "classify_basements = lambda x: 'Unfinished' if ((x.fin>0)&(x.unfin>0)) else 'Finished' if x.fin>0 else 'Unfinished' if x.unfin>0 else 'None'\n",
    "basement['Simplified'] = basement.apply(classify_basements, axis=1)"
   ]
  },
  {
   "cell_type": "markdown",
   "metadata": {},
   "source": [
    "##### Plot commonality of whether a basement is finished, unfinished, or simply does not exist"
   ]
  },
  {
   "cell_type": "code",
   "execution_count": 111,
   "metadata": {},
   "outputs": [
    {
     "data": {
      "image/png": "[encoded data removed]",
      "text/plain": [
       "<Figure size 432x288 with 1 Axes>"
      ]
     },
     "metadata": {
      "needs_background": "light"
     },
     "output_type": "display_data"
    }
   ],
   "source": [
    "basement_cts = pd.DataFrame(basement.Simplified.value_counts())\n",
    "plt.bar(basement_cts.index, basement_cts.Simplified)\n",
    "plt.title('Commonality of Basement Statuses')\n",
    "plt.ylabel('Number of Homes');"
   ]
  },
  {
   "cell_type": "code",
   "execution_count": null,
   "metadata": {},
   "outputs": [],
   "source": [
    "# One-hot encode\n",
    "basement_dummies = pd.get_dummies(basement.Simplified, prefix='Basement', drop_first=False)\n",
    "\n",
    "# Drop 'Unfinished' to set it as the default when investigating the impact of finishing the basement\n",
    "basement_dummies.drop('Basement_Unfinished', axis=1)\n",
    "\n",
    "df_main = pd.concat([df_main, basement_dummies], axis=1)\n",
    "df_main.drop('Basement_None', axis=1, inplace=True)"
   ]
  },
  {
   "cell_type": "code",
   "execution_count": null,
   "metadata": {},
   "outputs": [],
   "source": [
    "df_main"
   ]
  },
  {
   "cell_type": "code",
   "execution_count": null,
   "metadata": {},
   "outputs": [],
   "source": []
  },
  {
   "cell_type": "code",
   "execution_count": null,
   "metadata": {},
   "outputs": [],
   "source": []
  },
  {
   "cell_type": "code",
   "execution_count": null,
   "metadata": {},
   "outputs": [],
   "source": []
  },
  {
   "cell_type": "code",
   "execution_count": 22,
   "metadata": {},
   "outputs": [],
   "source": []
  },
  {
   "cell_type": "code",
   "execution_count": null,
   "metadata": {},
   "outputs": [],
   "source": []
  }
 ],
 "metadata": {
  "kernelspec": {
   "display_name": "Python 3",
   "language": "python",
   "name": "python3"
  },
  "language_info": {
   "codemirror_mode": {
    "name": "ipython",
    "version": 3
   },
   "file_extension": ".py",
   "mimetype": "text/x-python",
   "name": "python",
   "nbconvert_exporter": "python",
   "pygments_lexer": "ipython3",
   "version": "3.8.3"
  }
 },
 "nbformat": 4,
 "nbformat_minor": 4
}
