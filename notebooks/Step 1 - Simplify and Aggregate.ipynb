{
 "cells": [
  {
   "cell_type": "markdown",
   "metadata": {},
   "source": [
    "##### Import necessary packages"
   ]
  },
  {
   "cell_type": "code",
   "execution_count": 1,
   "metadata": {},
   "outputs": [],
   "source": [
    "import numpy as np\n",
    "import pandas as pd\n",
    "import sqlite3\n",
    "import os, sys\n",
    "\n",
    "path_to_src = os.path.join(\"..\", \"..\", \"src\")\n",
    "sys.path.insert(1, path_to_src)\n",
    "from custom_functions import *\n",
    "\n",
    "pd.set_option(\"display.max_rows\", 100)\n",
    "pd.set_option(\"display.max_columns\", 100)\n",
    "%load_ext autoreload\n",
    "%autoreload 2"
   ]
  },
  {
   "cell_type": "markdown",
   "metadata": {},
   "source": [
    "##### Import datasets and packages"
   ]
  },
  {
   "cell_type": "code",
   "execution_count": 2,
   "metadata": {},
   "outputs": [],
   "source": [
    "# Import Buildings database\n",
    "path = os.path.join(\"..\", \"..\", \"data\", \"raw\", \"EXTR_ResBldg.csv\")\n",
    "df_resbldg = pd.read_csv(path, dtype=\"str\")\n",
    "\n",
    "# Import Sales database\n",
    "path = os.path.join(\"..\", \"..\", \"data\", \"raw\", \"EXTR_RpSale.csv\")\n",
    "df_rpsale = pd.read_csv(path, dtype=\"str\")\n",
    "\n",
    "# Strip leading and trailing spaces\n",
    "df_resbldg = strip_spaces(df_resbldg)\n",
    "df_rpsale = strip_spaces(df_rpsale)"
   ]
  },
  {
   "cell_type": "markdown",
   "metadata": {},
   "source": [
    "### The Sales Database"
   ]
  },
  {
   "cell_type": "markdown",
   "metadata": {},
   "source": [
    "##### Eliminate unecessary data. After close investigation, the below columns were deemed the most worthy of continued analysis."
   ]
  },
  {
   "cell_type": "code",
   "execution_count": 3,
   "metadata": {},
   "outputs": [],
   "source": [
    "# Manual selection of the features of choice\n",
    "rpsale_desired = [\n",
    "    \"ExciseTaxNbr\",\n",
    "    \"Major\",\n",
    "    \"Minor\",\n",
    "    \"DocumentDate\",\n",
    "    \"SalePrice\",\n",
    "    \"RecordingNbr\",\n",
    "    \"PropertyType\",\n",
    "    \"PrincipalUse\",\n",
    "    \"SaleInstrument\",\n",
    "    \"AFForestLand\",\n",
    "    \"AFCurrentUseLand\",\n",
    "    \"AFNonProfitUse\",\n",
    "    \"AFHistoricProperty\",\n",
    "    \"SaleReason\",\n",
    "    \"PropertyClass\",\n",
    "    \"SaleWarning\",\n",
    "]\n",
    "\n",
    "# Remove all columns that are not in the above lists\n",
    "df_rpsale = df_rpsale[rpsale_desired].copy()"
   ]
  },
  {
   "cell_type": "markdown",
   "metadata": {},
   "source": [
    "##### Create identifier that will be used to connect the two dataframes. \n",
    "In this case, each database provides *Major* and *Minor*, which serve as location-specific identifiers. From here on, the combination of *Major* and *Minor* will simply be referred to as the *parcel*. Although there is often more than one sale associated with a parcel, this is a great place to start for narrowing down our search. The goal is to narrow down the *Sales* dataset to include only one sale per parcel. This allows for a connection with the second database, *Residential Buildings*. "
   ]
  },
  {
   "cell_type": "code",
   "execution_count": 4,
   "metadata": {},
   "outputs": [],
   "source": [
    "# Create ParcelID\n",
    "df_rpsale[\"Parcel_ID\"] = df_rpsale.Major + \"-\" + df_rpsale.Minor"
   ]
  },
  {
   "cell_type": "markdown",
   "metadata": {},
   "source": [
    "##### Some of the nitty gritty data selection\n",
    "\n",
    "**PrincipalUse:** Select only sales for \"Residential\" plots, corresponding to code # 6, as can be found in the data dictionary. This eliminates Commerical, Condominium, Apartment, etc.\n",
    "\n",
    "**PropertyClass:** PropertyClass is another distinction between Commerical/Industrial and Residential, as well as other fundamental features. Code # 8 corresponds to Residential Improved property\n",
    "\n",
    "**PropertyType:** # Yet another classification of property type. Code #11 corresponds to single family households. Here we eliminate multiple family residences, alongside many commercial uses.\n"
   ]
  },
  {
   "cell_type": "code",
   "execution_count": 5,
   "metadata": {},
   "outputs": [],
   "source": [
    "# Actions described in text box above\n",
    "df_rpsale[\"PrincipalUse\"] = elimination_by_code(df_rpsale[\"PrincipalUse\"], \"6\")\n",
    "df_rpsale[\"PropertyClass\"] = elimination_by_code(\n",
    "    df_rpsale[\"PropertyClass\"], \"8\"\n",
    ")\n",
    "df_rpsale[\"PropertyType\"] = elimination_by_code(\n",
    "    df_rpsale[\"PropertyType\"], \"11\"\n",
    ")\n",
    "\n",
    "# drop na's\n",
    "df_rpsale.dropna(inplace=True)"
   ]
  },
  {
   "cell_type": "markdown",
   "metadata": {},
   "source": [
    "##### Limit scope to 2019 sales"
   ]
  },
  {
   "cell_type": "code",
   "execution_count": 6,
   "metadata": {},
   "outputs": [],
   "source": [
    "# Type conversion\n",
    "df_rpsale[\"DocumentDate\"] = df_rpsale.DocumentDate.astype(np.datetime64)\n",
    "\n",
    "# Isolate SaleYear as its own column\n",
    "df_rpsale[\"SaleYear\"] = [sale.year for sale in df_rpsale[\"DocumentDate\"]]\n",
    "\n",
    "# Eliminate rows corresponding to sales in a year other than 2019\n",
    "df_rpsale = df_rpsale.loc[df_rpsale[\"SaleYear\"] == 2019].copy()"
   ]
  },
  {
   "cell_type": "markdown",
   "metadata": {},
   "source": [
    "##### Eliminate unrealistically small sales"
   ]
  },
  {
   "cell_type": "code",
   "execution_count": 7,
   "metadata": {},
   "outputs": [],
   "source": [
    "min_acceptable_sale_price = 25000\n",
    "df_rpsale[\"SalePrice\"] = df_rpsale.SalePrice.astype(\"int\")\n",
    "df_rpsale = df_rpsale.loc[\n",
    "    df_rpsale.SalePrice > min_acceptable_sale_price\n",
    "].copy()"
   ]
  },
  {
   "cell_type": "markdown",
   "metadata": {},
   "source": [
    "##### Create column to identify duplicates, a necessary process before combining the two datasets"
   ]
  },
  {
   "cell_type": "code",
   "execution_count": 8,
   "metadata": {},
   "outputs": [],
   "source": [
    "df_rpsale[\"SaleCount\"] = list(\n",
    "    map(dict(df_rpsale.Parcel_ID.value_counts()).get, df_rpsale.Parcel_ID)\n",
    ")"
   ]
  },
  {
   "cell_type": "markdown",
   "metadata": {},
   "source": [
    "##### Upon further inspection, there are still duplicates (cases of more than one sale of a given parcel in 2019)"
   ]
  },
  {
   "cell_type": "code",
   "execution_count": 9,
   "metadata": {},
   "outputs": [
    {
     "name": "stdout",
     "output_type": "stream",
     "text": [
      "1    17884\n",
      "2      682\n",
      "6        6\n",
      "3        6\n",
      "Name: SaleCount, dtype: int64\n"
     ]
    }
   ],
   "source": [
    "print(df_rpsale.SaleCount.value_counts())"
   ]
  },
  {
   "cell_type": "markdown",
   "metadata": {},
   "source": [
    "##### Eliminate sales that are not the most recent\n",
    "This eliminates the duplicated data issue of multiple sales in one year, bringing the dataset one step closer to a unique Parcel ID"
   ]
  },
  {
   "cell_type": "code",
   "execution_count": 10,
   "metadata": {},
   "outputs": [
    {
     "name": "stdout",
     "output_type": "stream",
     "text": [
      "1    18152\n",
      "2      152\n",
      "Name: SaleCount, dtype: int64\n"
     ]
    }
   ],
   "source": [
    "# User-defined function that returns True/False indicating\n",
    "# whether a sale is the most recent for each parcel\n",
    "true_false = identify_latest_sale(df_rpsale.DocumentDate, df_rpsale.Parcel_ID)\n",
    "df_rpsale = df_rpsale.loc[true_false].copy()\n",
    "\n",
    "# Recalculate 'SaleCount' after removing old sales as described above\n",
    "df_rpsale[\"SaleCount\"] = list(\n",
    "    map(dict(df_rpsale.Parcel_ID.value_counts()).get, df_rpsale.Parcel_ID)\n",
    ")\n",
    "print(df_rpsale.SaleCount.value_counts())"
   ]
  },
  {
   "cell_type": "markdown",
   "metadata": {},
   "source": [
    "##### The great majority of parcels are narrowed to one sale. For the remainders, take a simple approach: average the SalePrice for all sales on that parcel. \n",
    "Further inspection was done to verify that this is a valid way of dealing with outliers. For example, in many cases, the sales are of equal or nearly equal price. "
   ]
  },
  {
   "cell_type": "code",
   "execution_count": 11,
   "metadata": {},
   "outputs": [],
   "source": [
    "# User-defined function to return the average SalePrice for each\n",
    "# parcel with more than one sale\n",
    "df_rpsale = avg_price_for_duped_parcels(df_rpsale)\n",
    "df_rpsale[\"SaleCount\"] = list(\n",
    "    map(dict(df_rpsale.Parcel_ID.value_counts()).get, df_rpsale.Parcel_ID)\n",
    ")\n",
    "\n",
    "# Remove duplicates\n",
    "df_rpsale.index = df_rpsale.Parcel_ID.values\n",
    "df_rpsale.drop_duplicates(\"Parcel_ID\", inplace=True)"
   ]
  },
  {
   "cell_type": "markdown",
   "metadata": {},
   "source": [
    "##### As a final step to cleaning *Sales* dataset, eliminate columns that are of no use going forward"
   ]
  },
  {
   "cell_type": "code",
   "execution_count": 12,
   "metadata": {},
   "outputs": [
    {
     "data": {
      "text/html": [
       "<div>\n",
       "<style scoped>\n",
       "    .dataframe tbody tr th:only-of-type {\n",
       "        vertical-align: middle;\n",
       "    }\n",
       "\n",
       "    .dataframe tbody tr th {\n",
       "        vertical-align: top;\n",
       "    }\n",
       "\n",
       "    .dataframe thead th {\n",
       "        text-align: right;\n",
       "    }\n",
       "</style>\n",
       "<table border=\"1\" class=\"dataframe\">\n",
       "  <thead>\n",
       "    <tr style=\"text-align: right;\">\n",
       "      <th></th>\n",
       "      <th>SalePrice</th>\n",
       "      <th>Parcel_ID</th>\n",
       "      <th>PropertyType</th>\n",
       "      <th>PrincipalUse</th>\n",
       "      <th>SaleInstrument</th>\n",
       "      <th>AFForestLand</th>\n",
       "      <th>AFCurrentUseLand</th>\n",
       "      <th>AFNonProfitUse</th>\n",
       "      <th>AFHistoricProperty</th>\n",
       "      <th>SaleReason</th>\n",
       "      <th>PropertyClass</th>\n",
       "      <th>SaleWarning</th>\n",
       "    </tr>\n",
       "  </thead>\n",
       "  <tbody>\n",
       "    <tr>\n",
       "      <th>213043-0120</th>\n",
       "      <td>560000</td>\n",
       "      <td>213043-0120</td>\n",
       "      <td>11</td>\n",
       "      <td>6</td>\n",
       "      <td>3</td>\n",
       "      <td>N</td>\n",
       "      <td>N</td>\n",
       "      <td>N</td>\n",
       "      <td>N</td>\n",
       "      <td>1</td>\n",
       "      <td>8</td>\n",
       "      <td></td>\n",
       "    </tr>\n",
       "    <tr>\n",
       "      <th>940652-0630</th>\n",
       "      <td>435000</td>\n",
       "      <td>940652-0630</td>\n",
       "      <td>11</td>\n",
       "      <td>6</td>\n",
       "      <td>3</td>\n",
       "      <td>N</td>\n",
       "      <td>N</td>\n",
       "      <td>N</td>\n",
       "      <td>N</td>\n",
       "      <td>1</td>\n",
       "      <td>8</td>\n",
       "      <td></td>\n",
       "    </tr>\n",
       "    <tr>\n",
       "      <th>347050-0040</th>\n",
       "      <td>648500</td>\n",
       "      <td>347050-0040</td>\n",
       "      <td>11</td>\n",
       "      <td>6</td>\n",
       "      <td>3</td>\n",
       "      <td>N</td>\n",
       "      <td>N</td>\n",
       "      <td>N</td>\n",
       "      <td>N</td>\n",
       "      <td>1</td>\n",
       "      <td>8</td>\n",
       "      <td></td>\n",
       "    </tr>\n",
       "    <tr>\n",
       "      <th>345960-0230</th>\n",
       "      <td>1255000</td>\n",
       "      <td>345960-0230</td>\n",
       "      <td>11</td>\n",
       "      <td>6</td>\n",
       "      <td>3</td>\n",
       "      <td>N</td>\n",
       "      <td>N</td>\n",
       "      <td>N</td>\n",
       "      <td>N</td>\n",
       "      <td>1</td>\n",
       "      <td>8</td>\n",
       "      <td>40</td>\n",
       "    </tr>\n",
       "    <tr>\n",
       "      <th>030200-0645</th>\n",
       "      <td>380000</td>\n",
       "      <td>030200-0645</td>\n",
       "      <td>11</td>\n",
       "      <td>6</td>\n",
       "      <td>3</td>\n",
       "      <td>N</td>\n",
       "      <td>N</td>\n",
       "      <td>N</td>\n",
       "      <td>N</td>\n",
       "      <td>1</td>\n",
       "      <td>8</td>\n",
       "      <td>10</td>\n",
       "    </tr>\n",
       "  </tbody>\n",
       "</table>\n",
       "</div>"
      ],
      "text/plain": [
       "             SalePrice    Parcel_ID PropertyType PrincipalUse SaleInstrument  \\\n",
       "213043-0120     560000  213043-0120           11            6              3   \n",
       "940652-0630     435000  940652-0630           11            6              3   \n",
       "347050-0040     648500  347050-0040           11            6              3   \n",
       "345960-0230    1255000  345960-0230           11            6              3   \n",
       "030200-0645     380000  030200-0645           11            6              3   \n",
       "\n",
       "            AFForestLand AFCurrentUseLand AFNonProfitUse AFHistoricProperty  \\\n",
       "213043-0120            N                N              N                  N   \n",
       "940652-0630            N                N              N                  N   \n",
       "347050-0040            N                N              N                  N   \n",
       "345960-0230            N                N              N                  N   \n",
       "030200-0645            N                N              N                  N   \n",
       "\n",
       "            SaleReason PropertyClass SaleWarning  \n",
       "213043-0120          1             8              \n",
       "940652-0630          1             8              \n",
       "347050-0040          1             8              \n",
       "345960-0230          1             8          40  \n",
       "030200-0645          1             8          10  "
      ]
     },
     "execution_count": 12,
     "metadata": {},
     "output_type": "execute_result"
    }
   ],
   "source": [
    "# Drop unused columns as final step of cleaning before join\n",
    "cols_to_keep = [\n",
    "    \"SalePrice\",\n",
    "    \"Parcel_ID\",\n",
    "    \"PropertyType\",\n",
    "    \"PrincipalUse\",\n",
    "    \"SaleInstrument\",\n",
    "    \"AFForestLand\",\n",
    "    \"AFCurrentUseLand\",\n",
    "    \"AFNonProfitUse\",\n",
    "    \"AFHistoricProperty\",\n",
    "    \"SaleReason\",\n",
    "    \"PropertyClass\",\n",
    "    \"SaleWarning\",\n",
    "]\n",
    "df_rpsale = df_rpsale[cols_to_keep].copy()\n",
    "df_rpsale.head(5)"
   ]
  },
  {
   "cell_type": "markdown",
   "metadata": {},
   "source": [
    "### The Buildings Database\n",
    "This dataset requires far less cleaning than *Sales* did. In this case, it is mostly eliminating columns that have been determined not valuable as well as converting to correct datatypes.\n",
    "\n",
    "##### Eliminate unecessary data. After close investigation, the below columns were deemed the most worthy of continued analysis."
   ]
  },
  {
   "cell_type": "code",
   "execution_count": 13,
   "metadata": {},
   "outputs": [],
   "source": [
    "# Manual selection of the features of choice\n",
    "resbldg_desired = [\n",
    "    \"Major\",\n",
    "    \"Minor\",\n",
    "    \"NbrLivingUnits\",\n",
    "    \"Stories\",\n",
    "    \"BldgGrade\",\n",
    "    \"BldgGradeVar\",\n",
    "    \"SqFt1stFloor\",\n",
    "    \"SqFtHalfFloor\",\n",
    "    \"SqFt2ndFloor\",\n",
    "    \"SqFtUpperFloor\",\n",
    "    \"SqFtUnfinFull\",\n",
    "    \"SqFtUnfinHalf\",\n",
    "    \"SqFtTotLiving\",\n",
    "    \"SqFtTotBasement\",\n",
    "    \"SqFtFinBasement\",\n",
    "    \"FinBasementGrade\",\n",
    "    \"SqFtGarageBasement\",\n",
    "    \"SqFtGarageAttached\",\n",
    "    \"DaylightBasement\",\n",
    "    \"SqFtOpenPorch\",\n",
    "    \"SqFtEnclosedPorch\",\n",
    "    \"SqFtDeck\",\n",
    "    \"HeatSystem\",\n",
    "    \"HeatSource\",\n",
    "    \"BrickStone\",\n",
    "    \"ViewUtilization\",\n",
    "    \"Bedrooms\",\n",
    "    \"BathHalfCount\",\n",
    "    \"Bath3qtrCount\",\n",
    "    \"BathFullCount\",\n",
    "    \"FpSingleStory\",\n",
    "    \"FpMultiStory\",\n",
    "    \"FpFreestanding\",\n",
    "    \"FpAdditional\",\n",
    "    \"YrBuilt\",\n",
    "    \"YrRenovated\",\n",
    "    \"PcntComplete\",\n",
    "    \"Obsolescence\",\n",
    "    \"PcntNetCondition\",\n",
    "    \"Condition\",\n",
    "]\n",
    "\n",
    "# Remove all columns that are not in above list\n",
    "df_resbldg = df_resbldg[resbldg_desired].copy()"
   ]
  },
  {
   "cell_type": "markdown",
   "metadata": {},
   "source": [
    "##### Create Parcel ID, which will map to Sales database "
   ]
  },
  {
   "cell_type": "code",
   "execution_count": 14,
   "metadata": {},
   "outputs": [],
   "source": [
    "# ParcelID is an aggregation of Major and Minor, as it was with the Sales database\n",
    "df_resbldg[\"Parcel_ID\"] = df_resbldg.Major + \"-\" + df_resbldg.Minor"
   ]
  },
  {
   "cell_type": "markdown",
   "metadata": {},
   "source": [
    "##### Convert features to the appropriate data type"
   ]
  },
  {
   "cell_type": "code",
   "execution_count": 15,
   "metadata": {},
   "outputs": [],
   "source": [
    "# Convert each of these columns into integer format\n",
    "convert_to_int = [\n",
    "    \"SqFtOpenPorch\",\n",
    "    \"SqFtEnclosedPorch\",\n",
    "    \"Bedrooms\",\n",
    "    \"SqFtGarageAttached\",\n",
    "    \"SqFtGarageBasement\",\n",
    "    \"NbrLivingUnits\",\n",
    "    \"BldgGrade\",\n",
    "    \"SqFt1stFloor\",\n",
    "    \"SqFtHalfFloor\",\n",
    "    \"SqFt2ndFloor\",\n",
    "    \"SqFtUpperFloor\",\n",
    "    \"SqFtUnfinFull\",\n",
    "    \"SqFtUnfinHalf\",\n",
    "    \"SqFtTotLiving\",\n",
    "    \"SqFtTotBasement\",\n",
    "    \"SqFtFinBasement\",\n",
    "    \"FinBasementGrade\",\n",
    "    \"SqFtGarageBasement\",\n",
    "    \"SqFtGarageAttached\",\n",
    "    \"SqFtOpenPorch\",\n",
    "    \"SqFtEnclosedPorch\",\n",
    "    \"SqFtDeck\",\n",
    "    \"BathHalfCount\",\n",
    "    \"Bath3qtrCount\",\n",
    "    \"BathFullCount\",\n",
    "    \"FpSingleStory\",\n",
    "    \"FpMultiStory\",\n",
    "    \"FpFreestanding\",\n",
    "    \"FpAdditional\",\n",
    "    \"YrBuilt\",\n",
    "    \"YrRenovated\",\n",
    "    \"BrickStone\",\n",
    "]\n",
    "\n",
    "# Loop over entire list\n",
    "for category in convert_to_int:\n",
    "    df_resbldg[category] = df_resbldg[category].astype(\"int\")\n",
    "\n",
    "\n",
    "# Convert into float format\n",
    "df_resbldg[\"Stories\"] = df_resbldg[\"Stories\"].astype(\"float\")\n",
    "\n",
    "# Nit-picky\n",
    "# Data cleaning for inconsistent casing\n",
    "df_resbldg[\"DaylightBasement\"] = df_resbldg[\"DaylightBasement\"].str.upper()\n",
    "\n",
    "# Remove buildings that aren't complete\n",
    "df_resbldg = df_resbldg.loc[\n",
    "    df_resbldg.PcntComplete.astype(\"str\") == \"0\"\n",
    "].copy()\n",
    "\n",
    "# Remove buildings in obsolescence process\n",
    "df_resbldg = df_resbldg.loc[\n",
    "    df_resbldg.Obsolescence.astype(\"str\") == \"0\"\n",
    "].copy()\n",
    "\n",
    "# Remove 6 outliers in abnormal condition\n",
    "df_resbldg = df_resbldg.loc[\n",
    "    df_resbldg.PcntNetCondition.astype(\"str\") == \"0\"\n",
    "].copy()"
   ]
  },
  {
   "cell_type": "markdown",
   "metadata": {},
   "source": [
    "### Join with SQL and Export"
   ]
  },
  {
   "cell_type": "code",
   "execution_count": 16,
   "metadata": {},
   "outputs": [],
   "source": [
    "path_to_db = os.path.join(\"..\", \"..\", \"data\", \"processed\", \"main.db\")\n",
    "conn = sqlite3.connect(path_to_db)\n",
    "df_resbldg.to_sql(\"buildings\", conn, if_exists=\"replace\")\n",
    "df_rpsale.to_sql(\"sales\", conn, if_exists=\"replace\")\n",
    "\n",
    "q = \"\"\" SELECT * FROM buildings\n",
    "LEFT JOIN sales USING (Parcel_ID)\"\"\"\n",
    "\n",
    "joined = pd.read_sql(q, conn)\n",
    "\n",
    "\n",
    "keepers = [\n",
    "    \"SalePrice\",\n",
    "    \"NbrLivingUnits\",\n",
    "    \"Stories\",\n",
    "    \"BldgGrade\",\n",
    "    \"SqFt1stFloor\",\n",
    "    \"SqFtHalfFloor\",\n",
    "    \"SqFt2ndFloor\",\n",
    "    \"SqFtUpperFloor\",\n",
    "    \"SqFtUnfinFull\",\n",
    "    \"SqFtUnfinHalf\",\n",
    "    \"SqFtTotLiving\",\n",
    "    \"SqFtTotBasement\",\n",
    "    \"SqFtFinBasement\",\n",
    "    \"FinBasementGrade\",\n",
    "    \"SqFtGarageBasement\",\n",
    "    \"SqFtGarageAttached\",\n",
    "    \"DaylightBasement\",\n",
    "    \"SqFtOpenPorch\",\n",
    "    \"SqFtEnclosedPorch\",\n",
    "    \"SqFtDeck\",\n",
    "    \"HeatSystem\",\n",
    "    \"HeatSource\",\n",
    "    \"BrickStone\",\n",
    "    \"ViewUtilization\",\n",
    "    \"Bedrooms\",\n",
    "    \"BathHalfCount\",\n",
    "    \"Bath3qtrCount\",\n",
    "    \"BathFullCount\",\n",
    "    \"FpSingleStory\",\n",
    "    \"FpMultiStory\",\n",
    "    \"FpFreestanding\",\n",
    "    \"FpAdditional\",\n",
    "    \"YrBuilt\",\n",
    "    \"YrRenovated\",\n",
    "    \"Condition\",\n",
    "    \"SaleInstrument\",\n",
    "]\n",
    "df_main = joined[keepers].copy()\n",
    "\n",
    "\n",
    "df_main.dropna(inplace=True)\n",
    "df_main.reset_index(inplace=True, drop=True)\n",
    "\n",
    "df_main[\"SalePrice\"] = df_main[\"SalePrice\"].astype(\"int64\")\n",
    "df_main[\"SaleInstrument\"] = df_main[\"SaleInstrument\"].astype(\"int64\")\n",
    "\n",
    "YN_converter = (\n",
    "    lambda x: 1\n",
    "    if ((x == \"Y\") | (x == 1))\n",
    "    else 0\n",
    "    if ((x == \"N\") | (x == 0))\n",
    "    else np.nan\n",
    ")\n",
    "\n",
    "# NOTE THAT THESE CAUSES LOTS OF NA'S!\n",
    "df_main.DaylightBasement = df_main.DaylightBasement.apply(YN_converter)\n",
    "df_main.ViewUtilization = df_main.ViewUtilization.apply(YN_converter)\n",
    "\n",
    "# Store primary dataframe in SQL database\n",
    "df_main.to_sql(\"step1_aggregated\", conn, if_exists=\"replace\")\n",
    "\n",
    "conn.close()"
   ]
  }
 ],
 "metadata": {
  "kernelspec": {
   "display_name": "Python 3",
   "language": "python",
   "name": "python3"
  },
  "language_info": {
   "codemirror_mode": {
    "name": "ipython",
    "version": 3
   },
   "file_extension": ".py",
   "mimetype": "text/x-python",
   "name": "python",
   "nbconvert_exporter": "python",
   "pygments_lexer": "ipython3",
   "version": "3.8.3"
  }
 },
 "nbformat": 4,
 "nbformat_minor": 4
}
