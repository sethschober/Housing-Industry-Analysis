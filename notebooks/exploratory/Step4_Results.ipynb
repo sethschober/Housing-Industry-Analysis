{
 "cells": [
  {
   "cell_type": "markdown",
   "metadata": {},
   "source": [
    "#### Import packages and datasets"
   ]
  },
  {
   "cell_type": "code",
   "execution_count": 1,
   "metadata": {},
   "outputs": [],
   "source": [
    "import pandas as pd\n",
    "import numpy as np\n",
    "import sqlite3\n",
    "from custom_functions import *"
   ]
  },
  {
   "cell_type": "code",
   "execution_count": 2,
   "metadata": {},
   "outputs": [],
   "source": [
    "conn = sqlite3.connect('../../data/processed/main.db')\n",
    "query_df = '''SELECT * FROM step3_final_df'''\n",
    "query_performance = '''SELECT * FROM step3_performance_metrics'''\n",
    "df_final = pd.read_sql(query_df, conn, index_col='index').reset_index(drop=True)\n",
    "performance_metrics = pd.read_sql(query_performance, conn, index_col='index').reset_index(drop=True)"
   ]
  },
  {
   "cell_type": "markdown",
   "metadata": {},
   "source": [
    "#### Show final model statistics"
   ]
  },
  {
   "cell_type": "code",
   "execution_count": 3,
   "metadata": {},
   "outputs": [
    {
     "name": "stdout",
     "output_type": "stream",
     "text": [
      "Modeling: SalePrice_log ~ Heating_ElecBB+Heating_FloorWall+Heating_HeatPump+Heating_HotWater+Heating_Radiant+SqFtTotLiving_log+Basement_Finished+Porch_Open+Porch_Closed+Porch_Both\n",
      "                            OLS Regression Results                            \n",
      "==============================================================================\n",
      "Dep. Variable:          SalePrice_log   R-squared:                       0.404\n",
      "Model:                            OLS   Adj. R-squared:                  0.403\n",
      "Method:                 Least Squares   F-statistic:                     1217.\n",
      "Date:                Fri, 12 Mar 2021   Prob (F-statistic):               0.00\n",
      "Time:                        22:16:07   Log-Likelihood:                -9173.4\n",
      "No. Observations:               17986   AIC:                         1.837e+04\n",
      "Df Residuals:                   17975   BIC:                         1.845e+04\n",
      "Df Model:                          10                                         \n",
      "Covariance Type:            nonrobust                                         \n",
      "=====================================================================================\n",
      "                        coef    std err          t      P>|t|      [0.025      0.975]\n",
      "-------------------------------------------------------------------------------------\n",
      "Intercept             7.9993      0.059    135.535      0.000       7.884       8.115\n",
      "Heating_ElecBB       -0.0585      0.013     -4.446      0.000      -0.084      -0.033\n",
      "Heating_FloorWall     0.0781      0.018      4.349      0.000       0.043       0.113\n",
      "Heating_HeatPump      0.1129      0.011     10.337      0.000       0.091       0.134\n",
      "Heating_HotWater      0.2678      0.020     13.727      0.000       0.230       0.306\n",
      "Heating_Radiant       0.2732      0.025     10.820      0.000       0.224       0.323\n",
      "SqFtTotLiving_log     0.7106      0.008     90.018      0.000       0.695       0.726\n",
      "Basement_Finished     0.0711      0.009      7.770      0.000       0.053       0.089\n",
      "Porch_Open            0.0337      0.007      5.166      0.000       0.021       0.046\n",
      "Porch_Closed          0.1028      0.020      5.081      0.000       0.063       0.143\n",
      "Porch_Both            0.1345      0.023      5.845      0.000       0.089       0.180\n",
      "==============================================================================\n",
      "Omnibus:                     1223.592   Durbin-Watson:                   1.698\n",
      "Prob(Omnibus):                  0.000   Jarque-Bera (JB):             5351.203\n",
      "Skew:                           0.184   Prob(JB):                         0.00\n",
      "Kurtosis:                       5.647   Cond. No.                         153.\n",
      "==============================================================================\n",
      "\n",
      "Warnings:\n",
      "[1] Standard Errors assume that the covariance matrix of the errors is correctly specified.\n"
     ]
    }
   ],
   "source": [
    "x = list(df_final.drop('SalePrice_log', axis=1).columns)\n",
    "model, _ = produce_model(df_final, x, 'SalePrice_log')\n",
    "print(model.summary())"
   ]
  },
  {
   "cell_type": "markdown",
   "metadata": {},
   "source": [
    "#### Quantify impact of coefficients given log-scaled output"
   ]
  },
  {
   "cell_type": "code",
   "execution_count": 10,
   "metadata": {},
   "outputs": [],
   "source": [
    "results = pd.DataFrame(model.params).reset_index()\n",
    "results.columns = ['attribute', 'coeff']\n",
    "results['log_transformed?'] = ['_log' in x for x in results.attribute]"
   ]
  },
  {
   "cell_type": "code",
   "execution_count": 11,
   "metadata": {},
   "outputs": [],
   "source": [
    "exp_func = lambda x: np.round(10**x, 2)-1\n",
    "results['% change in SalePrice per *unit* input increase'] = results['coeff'].apply(exp_func)\n",
    "results.iloc[0, -1] = 'NA'\n",
    "results.loc[results['log_transformed?']==True, '% change in SalePrice per *unit* input increase'] = 'NA'"
   ]
  },
  {
   "cell_type": "code",
   "execution_count": 8,
   "metadata": {},
   "outputs": [
    {
     "data": {
      "text/html": [
       "<div>\n",
       "<style scoped>\n",
       "    .dataframe tbody tr th:only-of-type {\n",
       "        vertical-align: middle;\n",
       "    }\n",
       "\n",
       "    .dataframe tbody tr th {\n",
       "        vertical-align: top;\n",
       "    }\n",
       "\n",
       "    .dataframe thead th {\n",
       "        text-align: right;\n",
       "    }\n",
       "</style>\n",
       "<table border=\"1\" class=\"dataframe\">\n",
       "  <thead>\n",
       "    <tr style=\"text-align: right;\">\n",
       "      <th></th>\n",
       "      <th>attribute</th>\n",
       "      <th>coeff</th>\n",
       "      <th>log_transformed?</th>\n",
       "      <th>% change in SalePrice per *unit* input increase</th>\n",
       "      <th>% change in SalePrice per *percent* input increase</th>\n",
       "    </tr>\n",
       "  </thead>\n",
       "  <tbody>\n",
       "    <tr>\n",
       "      <th>0</th>\n",
       "      <td>Intercept</td>\n",
       "      <td>7.999294</td>\n",
       "      <td>False</td>\n",
       "      <td>NA</td>\n",
       "      <td>NA</td>\n",
       "    </tr>\n",
       "    <tr>\n",
       "      <th>1</th>\n",
       "      <td>Heating_ElecBB</td>\n",
       "      <td>-0.058457</td>\n",
       "      <td>False</td>\n",
       "      <td>-0.13</td>\n",
       "      <td>NA</td>\n",
       "    </tr>\n",
       "    <tr>\n",
       "      <th>2</th>\n",
       "      <td>Heating_FloorWall</td>\n",
       "      <td>0.078050</td>\n",
       "      <td>False</td>\n",
       "      <td>0.2</td>\n",
       "      <td>NA</td>\n",
       "    </tr>\n",
       "    <tr>\n",
       "      <th>3</th>\n",
       "      <td>Heating_HeatPump</td>\n",
       "      <td>0.112877</td>\n",
       "      <td>False</td>\n",
       "      <td>0.3</td>\n",
       "      <td>NA</td>\n",
       "    </tr>\n",
       "    <tr>\n",
       "      <th>4</th>\n",
       "      <td>Heating_HotWater</td>\n",
       "      <td>0.267768</td>\n",
       "      <td>False</td>\n",
       "      <td>0.85</td>\n",
       "      <td>NA</td>\n",
       "    </tr>\n",
       "    <tr>\n",
       "      <th>5</th>\n",
       "      <td>Heating_Radiant</td>\n",
       "      <td>0.273241</td>\n",
       "      <td>False</td>\n",
       "      <td>0.88</td>\n",
       "      <td>NA</td>\n",
       "    </tr>\n",
       "    <tr>\n",
       "      <th>6</th>\n",
       "      <td>SqFtTotLiving_log</td>\n",
       "      <td>0.710611</td>\n",
       "      <td>True</td>\n",
       "      <td>NA</td>\n",
       "      <td>0.00709587</td>\n",
       "    </tr>\n",
       "    <tr>\n",
       "      <th>7</th>\n",
       "      <td>Basement_Finished</td>\n",
       "      <td>0.071071</td>\n",
       "      <td>False</td>\n",
       "      <td>0.18</td>\n",
       "      <td>NA</td>\n",
       "    </tr>\n",
       "    <tr>\n",
       "      <th>8</th>\n",
       "      <td>Porch_Open</td>\n",
       "      <td>0.033703</td>\n",
       "      <td>False</td>\n",
       "      <td>0.08</td>\n",
       "      <td>NA</td>\n",
       "    </tr>\n",
       "    <tr>\n",
       "      <th>9</th>\n",
       "      <td>Porch_Closed</td>\n",
       "      <td>0.102850</td>\n",
       "      <td>False</td>\n",
       "      <td>0.27</td>\n",
       "      <td>NA</td>\n",
       "    </tr>\n",
       "    <tr>\n",
       "      <th>10</th>\n",
       "      <td>Porch_Both</td>\n",
       "      <td>0.134482</td>\n",
       "      <td>False</td>\n",
       "      <td>0.36</td>\n",
       "      <td>NA</td>\n",
       "    </tr>\n",
       "  </tbody>\n",
       "</table>\n",
       "</div>"
      ],
      "text/plain": [
       "            attribute     coeff  log_transformed?  \\\n",
       "0           Intercept  7.999294             False   \n",
       "1      Heating_ElecBB -0.058457             False   \n",
       "2   Heating_FloorWall  0.078050             False   \n",
       "3    Heating_HeatPump  0.112877             False   \n",
       "4    Heating_HotWater  0.267768             False   \n",
       "5     Heating_Radiant  0.273241             False   \n",
       "6   SqFtTotLiving_log  0.710611              True   \n",
       "7   Basement_Finished  0.071071             False   \n",
       "8          Porch_Open  0.033703             False   \n",
       "9        Porch_Closed  0.102850             False   \n",
       "10         Porch_Both  0.134482             False   \n",
       "\n",
       "   % change in SalePrice per *unit* input increase  \\\n",
       "0                                               NA   \n",
       "1                                            -0.13   \n",
       "2                                              0.2   \n",
       "3                                              0.3   \n",
       "4                                             0.85   \n",
       "5                                             0.88   \n",
       "6                                               NA   \n",
       "7                                             0.18   \n",
       "8                                             0.08   \n",
       "9                                             0.27   \n",
       "10                                            0.36   \n",
       "\n",
       "   % change in SalePrice per *percent* input increase  \n",
       "0                                                  NA  \n",
       "1                                                  NA  \n",
       "2                                                  NA  \n",
       "3                                                  NA  \n",
       "4                                                  NA  \n",
       "5                                                  NA  \n",
       "6                                          0.00709587  \n",
       "7                                                  NA  \n",
       "8                                                  NA  \n",
       "9                                                  NA  \n",
       "10                                                 NA  "
      ]
     },
     "execution_count": 8,
     "metadata": {},
     "output_type": "execute_result"
    }
   ],
   "source": [
    "logged_inputs_converted = []\n",
    "for row in range(results.shape[0]):\n",
    "    if results.iloc[row]['log_transformed?'] == True:\n",
    "        x = 1.01**results.iloc[row]['coeff']\n",
    "        logged_inputs_converted.append(x-1)\n",
    "    else:\n",
    "        logged_inputs_converted.append('NA')\n",
    "results['% change in SalePrice per *percent* input increase']  = logged_inputs_converted"
   ]
  },
  {
   "cell_type": "code",
   "execution_count": null,
   "metadata": {},
   "outputs": [],
   "source": [
    "results"
   ]
  },
  {
   "cell_type": "code",
   "execution_count": 9,
   "metadata": {},
   "outputs": [
    {
     "data": {
      "text/plain": [
       "0.07095872590325403"
      ]
     },
     "execution_count": 9,
     "metadata": {},
     "output_type": "execute_result"
    }
   ],
   "source": [
    "# footage up 10%\n",
    "(x-1)*10"
   ]
  }
 ],
 "metadata": {
  "kernelspec": {
   "display_name": "Python 3",
   "language": "python",
   "name": "python3"
  },
  "language_info": {
   "codemirror_mode": {
    "name": "ipython",
    "version": 3
   },
   "file_extension": ".py",
   "mimetype": "text/x-python",
   "name": "python",
   "nbconvert_exporter": "python",
   "pygments_lexer": "ipython3",
   "version": "3.8.3"
  }
 },
 "nbformat": 4,
 "nbformat_minor": 4
}
