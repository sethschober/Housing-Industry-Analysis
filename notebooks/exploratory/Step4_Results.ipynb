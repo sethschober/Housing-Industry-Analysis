{
 "cells": [
  {
   "cell_type": "code",
   "execution_count": 22,
   "metadata": {},
   "outputs": [],
   "source": [
    "import pandas as pd\n",
    "import sqlite3\n",
    "from custom_functions import *"
   ]
  },
  {
   "cell_type": "code",
   "execution_count": 24,
   "metadata": {},
   "outputs": [],
   "source": [
    "conn = sqlite3.connect('../../data/processed/main.db')\n",
    "query_df = '''SELECT * FROM step3_final_df'''\n",
    "query_performance = '''SELECT * FROM step3_performance_metrics'''\n",
    "df_final = pd.read_sql(query_df, conn, index_col='index').reset_index(drop=True)\n",
    "performance_metrics = pd.read_sql(query_performance, conn, index_col='index').reset_index(drop=True)"
   ]
  },
  {
   "cell_type": "code",
   "execution_count": 32,
   "metadata": {},
   "outputs": [
    {
     "name": "stdout",
     "output_type": "stream",
     "text": [
      "Modeling: SalePrice_log ~ Heating_ElecBB+Heating_FloorWall+Heating_HeatPump+Heating_HotWater+Heating_Radiant+SqFtTotLiving_log+Basement_Finished+Porch_Open+Porch_Closed+Porch_Both\n",
      "                            OLS Regression Results                            \n",
      "==============================================================================\n",
      "Dep. Variable:          SalePrice_log   R-squared:                       0.404\n",
      "Model:                            OLS   Adj. R-squared:                  0.403\n",
      "Method:                 Least Squares   F-statistic:                     1217.\n",
      "Date:                Fri, 12 Mar 2021   Prob (F-statistic):               0.00\n",
      "Time:                        17:55:47   Log-Likelihood:                -9173.4\n",
      "No. Observations:               17986   AIC:                         1.837e+04\n",
      "Df Residuals:                   17975   BIC:                         1.845e+04\n",
      "Df Model:                          10                                         \n",
      "Covariance Type:            nonrobust                                         \n",
      "=====================================================================================\n",
      "                        coef    std err          t      P>|t|      [0.025      0.975]\n",
      "-------------------------------------------------------------------------------------\n",
      "Intercept             7.9993      0.059    135.535      0.000       7.884       8.115\n",
      "Heating_ElecBB       -0.0585      0.013     -4.446      0.000      -0.084      -0.033\n",
      "Heating_FloorWall     0.0781      0.018      4.349      0.000       0.043       0.113\n",
      "Heating_HeatPump      0.1129      0.011     10.337      0.000       0.091       0.134\n",
      "Heating_HotWater      0.2678      0.020     13.727      0.000       0.230       0.306\n",
      "Heating_Radiant       0.2732      0.025     10.820      0.000       0.224       0.323\n",
      "SqFtTotLiving_log     0.7106      0.008     90.018      0.000       0.695       0.726\n",
      "Basement_Finished     0.0711      0.009      7.770      0.000       0.053       0.089\n",
      "Porch_Open            0.0337      0.007      5.166      0.000       0.021       0.046\n",
      "Porch_Closed          0.1028      0.020      5.081      0.000       0.063       0.143\n",
      "Porch_Both            0.1345      0.023      5.845      0.000       0.089       0.180\n",
      "==============================================================================\n",
      "Omnibus:                     1223.592   Durbin-Watson:                   1.698\n",
      "Prob(Omnibus):                  0.000   Jarque-Bera (JB):             5351.203\n",
      "Skew:                           0.184   Prob(JB):                         0.00\n",
      "Kurtosis:                       5.647   Cond. No.                         153.\n",
      "==============================================================================\n",
      "\n",
      "Warnings:\n",
      "[1] Standard Errors assume that the covariance matrix of the errors is correctly specified.\n"
     ]
    }
   ],
   "source": [
    "x = list(df_final.drop('SalePrice_log', axis=1).columns)\n",
    "model, _ = produce_model(df_final, x, 'SalePrice_log')\n",
    "print(model.summary())"
   ]
  },
  {
   "cell_type": "code",
   "execution_count": null,
   "metadata": {},
   "outputs": [],
   "source": []
  },
  {
   "cell_type": "code",
   "execution_count": null,
   "metadata": {},
   "outputs": [],
   "source": []
  }
 ],
 "metadata": {
  "kernelspec": {
   "display_name": "Python 3",
   "language": "python",
   "name": "python3"
  },
  "language_info": {
   "codemirror_mode": {
    "name": "ipython",
    "version": 3
   },
   "file_extension": ".py",
   "mimetype": "text/x-python",
   "name": "python",
   "nbconvert_exporter": "python",
   "pygments_lexer": "ipython3",
   "version": "3.8.3"
  }
 },
 "nbformat": 4,
 "nbformat_minor": 4
}
