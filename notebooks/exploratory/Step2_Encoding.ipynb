{
 "cells": [
  {
   "cell_type": "markdown",
   "metadata": {},
   "source": [
    "Import necessary packages"
   ]
  },
  {
   "cell_type": "code",
   "execution_count": 1,
   "metadata": {},
   "outputs": [],
   "source": [
    "import numpy as np\n",
    "import pandas as pd\n",
    "import matplotlib.pyplot as plt\n",
    "import seaborn as sns\n",
    "import sqlite3\n",
    "from statsmodels.formula.api import ols\n",
    "\n",
    "pd.set_option('display.max_rows', 100)\n",
    "pd.set_option('display.max_columns', 100)\n",
    "%matplotlib inline\n",
    "\n",
    "from custom_functions import remove_extremes"
   ]
  },
  {
   "cell_type": "code",
   "execution_count": null,
   "metadata": {},
   "outputs": [],
   "source": [
    "# df_resbldg['porch_both'] = (df_resbldg.SqFtOpenPorch > 0) & (df_resbldg.SqFtEnclosedPorch > 0)\n",
    "# df_resbldg['porch_none'] = (df_resbldg.SqFtOpenPorch == 0) & (df_resbldg.SqFtEnclosedPorch == 0)\n",
    "# df_resbldg['porch_closed'] = df_resbldg.SqFtEnclosedPorch > 0\n",
    "# df_resbldg['porch_open'] = df_resbldg.SqFtOpenPorch > 0"
   ]
  },
  {
   "cell_type": "code",
   "execution_count": null,
   "metadata": {},
   "outputs": [],
   "source": [
    "# from custom_functions import one_hot\n",
    "# from custom_functions import get_lookups\n",
    "\n",
    "# heating = one_hot(df_resbldg['HeatSystem'], name_lookup = get_lookups(108, df_lookup), prefix='heat')\n",
    "# df_resbldg = pd.concat([df_resbldg, heating], axis=1)"
   ]
  }
 ],
 "metadata": {
  "kernelspec": {
   "display_name": "Python 3",
   "language": "python",
   "name": "python3"
  },
  "language_info": {
   "codemirror_mode": {
    "name": "ipython",
    "version": 3
   },
   "file_extension": ".py",
   "mimetype": "text/x-python",
   "name": "python",
   "nbconvert_exporter": "python",
   "pygments_lexer": "ipython3",
   "version": "3.8.3"
  }
 },
 "nbformat": 4,
 "nbformat_minor": 4
}
