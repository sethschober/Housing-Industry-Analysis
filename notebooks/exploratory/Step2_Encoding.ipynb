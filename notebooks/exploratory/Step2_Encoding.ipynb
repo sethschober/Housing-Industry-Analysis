{
 "cells": [
  {
   "cell_type": "markdown",
   "metadata": {},
   "source": [
    "Import necessary packages"
   ]
  },
  {
   "cell_type": "code",
   "execution_count": 1,
   "metadata": {},
   "outputs": [],
   "source": [
    "import numpy as np\n",
    "import pandas as pd\n",
    "import matplotlib.pyplot as plt\n",
    "import seaborn as sns\n",
    "import sqlite3\n",
    "from statsmodels.formula.api import ols\n",
    "from custom_functions import *\n",
    "\n",
    "pd.set_option('display.max_rows', 100)\n",
    "pd.set_option('display.max_columns', 100)\n",
    "%matplotlib inline\n",
    "%load_ext autoreload\n",
    "%autoreload 2"
   ]
  },
  {
   "cell_type": "code",
   "execution_count": 2,
   "metadata": {},
   "outputs": [],
   "source": [
    "conn = sqlite3.connect('../../data/processed/main.db')\n",
    "query = '''SELECT * FROM step1_preprocessed'''\n",
    "df_main = pd.read_sql(query, conn, index_col='index').reset_index(drop=True)\n",
    "conn.close()"
   ]
  },
  {
   "cell_type": "code",
   "execution_count": 3,
   "metadata": {},
   "outputs": [
    {
     "data": {
      "text/html": [
       "<div>\n",
       "<style scoped>\n",
       "    .dataframe tbody tr th:only-of-type {\n",
       "        vertical-align: middle;\n",
       "    }\n",
       "\n",
       "    .dataframe tbody tr th {\n",
       "        vertical-align: top;\n",
       "    }\n",
       "\n",
       "    .dataframe thead th {\n",
       "        text-align: right;\n",
       "    }\n",
       "</style>\n",
       "<table border=\"1\" class=\"dataframe\">\n",
       "  <thead>\n",
       "    <tr style=\"text-align: right;\">\n",
       "      <th></th>\n",
       "      <th>SalePrice</th>\n",
       "      <th>NbrLivingUnits</th>\n",
       "      <th>Stories</th>\n",
       "      <th>BldgGrade</th>\n",
       "      <th>SqFt1stFloor</th>\n",
       "      <th>SqFtHalfFloor</th>\n",
       "      <th>SqFt2ndFloor</th>\n",
       "      <th>SqFtUpperFloor</th>\n",
       "      <th>SqFtUnfinFull</th>\n",
       "      <th>SqFtUnfinHalf</th>\n",
       "      <th>SqFtTotLiving</th>\n",
       "      <th>SqFtTotBasement</th>\n",
       "      <th>SqFtFinBasement</th>\n",
       "      <th>FinBasementGrade</th>\n",
       "      <th>SqFtGarageBasement</th>\n",
       "      <th>SqFtGarageAttached</th>\n",
       "      <th>DaylightBasement</th>\n",
       "      <th>SqFtOpenPorch</th>\n",
       "      <th>SqFtEnclosedPorch</th>\n",
       "      <th>SqFtDeck</th>\n",
       "      <th>HeatSystem</th>\n",
       "      <th>HeatSource</th>\n",
       "      <th>BrickStone</th>\n",
       "      <th>ViewUtilization</th>\n",
       "      <th>Bedrooms</th>\n",
       "      <th>BathHalfCount</th>\n",
       "      <th>Bath3qtrCount</th>\n",
       "      <th>BathFullCount</th>\n",
       "      <th>FpSingleStory</th>\n",
       "      <th>FpMultiStory</th>\n",
       "      <th>FpFreestanding</th>\n",
       "      <th>FpAdditional</th>\n",
       "      <th>YrBuilt</th>\n",
       "      <th>YrRenovated</th>\n",
       "      <th>Condition</th>\n",
       "      <th>SaleInstrument</th>\n",
       "    </tr>\n",
       "  </thead>\n",
       "  <tbody>\n",
       "    <tr>\n",
       "      <th>0</th>\n",
       "      <td>445000</td>\n",
       "      <td>1</td>\n",
       "      <td>1.0</td>\n",
       "      <td>7</td>\n",
       "      <td>1480</td>\n",
       "      <td>0</td>\n",
       "      <td>0</td>\n",
       "      <td>0</td>\n",
       "      <td>0</td>\n",
       "      <td>0</td>\n",
       "      <td>1480</td>\n",
       "      <td>0</td>\n",
       "      <td>0</td>\n",
       "      <td>0</td>\n",
       "      <td>0</td>\n",
       "      <td>440</td>\n",
       "      <td>NaN</td>\n",
       "      <td>80</td>\n",
       "      <td>0</td>\n",
       "      <td>120</td>\n",
       "      <td>5</td>\n",
       "      <td>2</td>\n",
       "      <td>0</td>\n",
       "      <td>NaN</td>\n",
       "      <td>3</td>\n",
       "      <td>0</td>\n",
       "      <td>0</td>\n",
       "      <td>2</td>\n",
       "      <td>1</td>\n",
       "      <td>0</td>\n",
       "      <td>0</td>\n",
       "      <td>0</td>\n",
       "      <td>1994</td>\n",
       "      <td>0</td>\n",
       "      <td>5</td>\n",
       "      <td>3</td>\n",
       "    </tr>\n",
       "    <tr>\n",
       "      <th>1</th>\n",
       "      <td>188500</td>\n",
       "      <td>1</td>\n",
       "      <td>1.0</td>\n",
       "      <td>5</td>\n",
       "      <td>550</td>\n",
       "      <td>0</td>\n",
       "      <td>0</td>\n",
       "      <td>0</td>\n",
       "      <td>0</td>\n",
       "      <td>0</td>\n",
       "      <td>550</td>\n",
       "      <td>0</td>\n",
       "      <td>0</td>\n",
       "      <td>0</td>\n",
       "      <td>0</td>\n",
       "      <td>0</td>\n",
       "      <td>NaN</td>\n",
       "      <td>0</td>\n",
       "      <td>0</td>\n",
       "      <td>0</td>\n",
       "      <td>1</td>\n",
       "      <td>1</td>\n",
       "      <td>0</td>\n",
       "      <td>NaN</td>\n",
       "      <td>2</td>\n",
       "      <td>0</td>\n",
       "      <td>1</td>\n",
       "      <td>0</td>\n",
       "      <td>0</td>\n",
       "      <td>0</td>\n",
       "      <td>0</td>\n",
       "      <td>0</td>\n",
       "      <td>1942</td>\n",
       "      <td>0</td>\n",
       "      <td>3</td>\n",
       "      <td>3</td>\n",
       "    </tr>\n",
       "    <tr>\n",
       "      <th>2</th>\n",
       "      <td>730000</td>\n",
       "      <td>1</td>\n",
       "      <td>2.0</td>\n",
       "      <td>9</td>\n",
       "      <td>660</td>\n",
       "      <td>0</td>\n",
       "      <td>595</td>\n",
       "      <td>0</td>\n",
       "      <td>0</td>\n",
       "      <td>0</td>\n",
       "      <td>1540</td>\n",
       "      <td>380</td>\n",
       "      <td>285</td>\n",
       "      <td>8</td>\n",
       "      <td>0</td>\n",
       "      <td>0</td>\n",
       "      <td>1.0</td>\n",
       "      <td>0</td>\n",
       "      <td>0</td>\n",
       "      <td>155</td>\n",
       "      <td>1</td>\n",
       "      <td>3</td>\n",
       "      <td>0</td>\n",
       "      <td>1.0</td>\n",
       "      <td>3</td>\n",
       "      <td>1</td>\n",
       "      <td>1</td>\n",
       "      <td>1</td>\n",
       "      <td>0</td>\n",
       "      <td>1</td>\n",
       "      <td>0</td>\n",
       "      <td>0</td>\n",
       "      <td>1984</td>\n",
       "      <td>0</td>\n",
       "      <td>3</td>\n",
       "      <td>3</td>\n",
       "    </tr>\n",
       "  </tbody>\n",
       "</table>\n",
       "</div>"
      ],
      "text/plain": [
       "   SalePrice  NbrLivingUnits  Stories  BldgGrade  SqFt1stFloor  SqFtHalfFloor  \\\n",
       "0     445000               1      1.0          7          1480              0   \n",
       "1     188500               1      1.0          5           550              0   \n",
       "2     730000               1      2.0          9           660              0   \n",
       "\n",
       "   SqFt2ndFloor  SqFtUpperFloor  SqFtUnfinFull  SqFtUnfinHalf  SqFtTotLiving  \\\n",
       "0             0               0              0              0           1480   \n",
       "1             0               0              0              0            550   \n",
       "2           595               0              0              0           1540   \n",
       "\n",
       "   SqFtTotBasement  SqFtFinBasement  FinBasementGrade  SqFtGarageBasement  \\\n",
       "0                0                0                 0                   0   \n",
       "1                0                0                 0                   0   \n",
       "2              380              285                 8                   0   \n",
       "\n",
       "   SqFtGarageAttached  DaylightBasement  SqFtOpenPorch  SqFtEnclosedPorch  \\\n",
       "0                 440               NaN             80                  0   \n",
       "1                   0               NaN              0                  0   \n",
       "2                   0               1.0              0                  0   \n",
       "\n",
       "   SqFtDeck HeatSystem HeatSource  BrickStone  ViewUtilization  Bedrooms  \\\n",
       "0       120          5          2           0              NaN         3   \n",
       "1         0          1          1           0              NaN         2   \n",
       "2       155          1          3           0              1.0         3   \n",
       "\n",
       "   BathHalfCount  Bath3qtrCount  BathFullCount  FpSingleStory  FpMultiStory  \\\n",
       "0              0              0              2              1             0   \n",
       "1              0              1              0              0             0   \n",
       "2              1              1              1              0             1   \n",
       "\n",
       "   FpFreestanding  FpAdditional  YrBuilt  YrRenovated Condition  \\\n",
       "0               0             0     1994            0         5   \n",
       "1               0             0     1942            0         3   \n",
       "2               0             0     1984            0         3   \n",
       "\n",
       "   SaleInstrument  \n",
       "0               3  \n",
       "1               3  \n",
       "2               3  "
      ]
     },
     "execution_count": 3,
     "metadata": {},
     "output_type": "execute_result"
    }
   ],
   "source": [
    "df_main.head(3)"
   ]
  },
  {
   "cell_type": "code",
   "execution_count": 4,
   "metadata": {},
   "outputs": [
    {
     "data": {
      "text/plain": [
       "Index(['SalePrice', 'NbrLivingUnits', 'Stories', 'BldgGrade', 'SqFt1stFloor',\n",
       "       'SqFtHalfFloor', 'SqFt2ndFloor', 'SqFtUpperFloor', 'SqFtUnfinFull',\n",
       "       'SqFtUnfinHalf', 'SqFtTotLiving', 'SqFtTotBasement', 'SqFtFinBasement',\n",
       "       'FinBasementGrade', 'SqFtGarageBasement', 'SqFtGarageAttached',\n",
       "       'DaylightBasement', 'SqFtOpenPorch', 'SqFtEnclosedPorch', 'SqFtDeck',\n",
       "       'HeatSystem', 'HeatSource', 'BrickStone', 'ViewUtilization', 'Bedrooms',\n",
       "       'BathHalfCount', 'Bath3qtrCount', 'BathFullCount', 'FpSingleStory',\n",
       "       'FpMultiStory', 'FpFreestanding', 'FpAdditional', 'YrBuilt',\n",
       "       'YrRenovated', 'Condition', 'SaleInstrument'],\n",
       "      dtype='object')"
      ]
     },
     "execution_count": 4,
     "metadata": {},
     "output_type": "execute_result"
    }
   ],
   "source": [
    "df_main.columns"
   ]
  },
  {
   "cell_type": "code",
   "execution_count": 5,
   "metadata": {},
   "outputs": [],
   "source": [
    "# Understand Square Footage metrics and remove unnecessary/repetitive data\n",
    "\n",
    "# Isolate columns related to the square footage of the house\n",
    "sq_footage = df_main[['SqFtTotLiving', 'SqFtTotBasement', 'SqFt1stFloor', 'SqFtHalfFloor', 'SqFt2ndFloor', 'SqFtUpperFloor', 'SqFtUnfinFull', 'SqFtUnfinHalf',  'SqFtFinBasement', 'SqFtGarageBasement']].copy()\n",
    "\n",
    "# Here we see that SqFt isn't just living area + basement area\n",
    "sq_footage['*TotLiving+TotBasement*'] = df_main.SqFtTotLiving+df_main.SqFtTotBasement \n",
    "\n",
    "# Here we see that SqFtTot IS ALWAYS >= SqFtFin+SqFtGarageBasement, as we would hope to be true, otherwise indicating an error\n",
    "sq_footage.loc[sq_footage['SqFtFinBasement'] > (sq_footage['SqFtTotBasement']+sq_footage['SqFtGarageBasement'])] \n",
    "\n",
    "# Here we determine the SqFtTotLiving includes only finished space\n",
    "finished = ['SqFt1stFloor', 'SqFtHalfFloor', 'SqFt2ndFloor', 'SqFtUpperFloor', 'SqFtFinBasement']\n",
    "unfinished = ['SqFtUnfinFull', 'SqFtUnfinHalf']\n",
    "sq_footage['livable'] = sq_footage[finished].sum(axis=1) - sq_footage[unfinished].sum(axis=1)\n",
    "sq_footage.loc[sq_footage.livable != sq_footage.SqFtTotLiving]\n",
    "\n",
    "# Now we can get rid of SqFt features that are already accounted for with 'summation' features\n",
    "# All of the metrics can be encompassed in three features: SqFtTotLiving, SqFtTotBasement, SqFtUnfinished\n",
    "SqFtUnfinished = df_main['SqFtUnfinFull'] + df_main['SqFtUnfinHalf']"
   ]
  },
  {
   "cell_type": "code",
   "execution_count": 6,
   "metadata": {},
   "outputs": [],
   "source": [
    "# Remove SquareFootage columns determined to be redundant\n",
    "\n",
    "# Allows the cell to be run multiple times without an error saying the column doesn't exist (because it was already dropped)\n",
    "sq_ft_cols_to_drop = ['SqFt1stFloor', 'SqFtHalfFloor', 'SqFtUpperFloor', 'SqFtUnfinFull', 'SqFtUnfinHalf', 'SqFt2ndFloor', 'SqFtGarageBasement', 'SqFtFinBasement']\n",
    "for col in sq_ft_cols_to_drop:\n",
    "    if col in df_main.columns:\n",
    "        df_main.drop(col, axis=1, inplace=True)\n",
    "        \n",
    "# Include the \"unfinished area\" metric since it is data not otherwise accounted for\n",
    "df_main['SqFtUnfinished'] = SqFtUnfinished"
   ]
  },
  {
   "cell_type": "code",
   "execution_count": 7,
   "metadata": {},
   "outputs": [
    {
     "data": {
      "image/png": "[encoded data removed]",
      "text/plain": [
       "<Figure size 432x288 with 2 Axes>"
      ]
     },
     "metadata": {
      "needs_background": "light"
     },
     "output_type": "display_data"
    }
   ],
   "source": [
    "# Aggregate \"Bathroom\" data\n",
    "\n",
    "bathrooms_v1 = df_main[['BathHalfCount', 'Bath3qtrCount', 'BathFullCount']].sum(axis=1)\n",
    "bathrooms_v2 = df_main['BathHalfCount']/2 + df_main['Bath3qtrCount']*3/4 + df_main['BathFullCount']\n",
    "\n",
    "bathrooms = pd.concat([bathrooms_v1, bathrooms_v2], axis=1)\n",
    "bathrooms.columns = ['Method1 (count fractions as wholes)', 'Method2 (count fractions as partials)']\n",
    "corr = bathrooms.corr()\n",
    "sns.heatmap(corr, annot=True)\n",
    "\n",
    "# As we can see, it doesn't really matter which method we choose, as they incredibly well correlated, as would be expected\n",
    "# For the purposes of this analysis, we will use Method 2 so as to not ignore the difference in value that may be\n",
    "# added by having a smaller bathroom (e.g. \"half bath\")\n",
    "\n",
    "\n",
    "# Allows the cell to be run multiple times without an error saying the column doesn't exist (because it was already dropped)\n",
    "bathroom_cols_to_drop = ['BathHalfCount', 'Bath3qtrCount', 'BathFullCount']\n",
    "for col in bathroom_cols_to_drop:\n",
    "    if col in df_main.columns:\n",
    "        df_main.drop(col, axis=1, inplace=True)\n",
    "\n",
    "df_main['Bathrooms'] = bathrooms_v2"
   ]
  },
  {
   "cell_type": "code",
   "execution_count": 9,
   "metadata": {},
   "outputs": [
    {
     "name": "stdout",
     "output_type": "stream",
     "text": [
      "Current data distribution:\n",
      "3     18042\n",
      "15       53\n",
      "2        30\n",
      "26       18\n",
      "Name: SaleInstrument, dtype: int64\n",
      "\n",
      "This actually means:\n",
      "Statutory Warranty Deed    18042\n",
      "Quit Claim Deed               53\n",
      "Warranty Deed                 30\n",
      "Other - See Affidavit         18\n",
      "Name: 0, dtype: int64\n"
     ]
    },
    {
     "data": {
      "image/png": "[encoded data removed]",
      "text/plain": [
       "<Figure size 432x288 with 2 Axes>"
      ]
     },
     "metadata": {
      "needs_background": "light"
     },
     "output_type": "display_data"
    }
   ],
   "source": [
    "# INVESTIGATE 'SALEINSTUMENT' DATA\n",
    "print('Current data distribution:')\n",
    "print(df_main.SaleInstrument.value_counts())\n",
    "\n",
    "# As we can see, there are very few values other than '3'. Let's investigate what this means\n",
    "# Import dictionary\n",
    "codes = get_lookups(LUType=6) # Code 6 corresponds to SaleInstument\n",
    "\n",
    "# See what the previously-printed codes mean\n",
    "decoded = pd.DataFrame([codes[str(x)] for x in df_main.SaleInstrument])\n",
    "\n",
    "print('\\nThis actually means:')\n",
    "print(decoded[0].value_counts())\n",
    "\n",
    "# Based on these findings, there is no substantial meaning that can be extracted. Before removing\n",
    "# this data, however, let's make sure there isn't an exceptional correlation with SalePrice\n",
    "corr = df_main[['SalePrice', 'SaleInstrument']].corr()\n",
    "sns.heatmap(corr, annot=True)\n",
    "\n",
    "# Since the heatmap shows there is no correlation, we can confidently remove 'SaleInstrument' from the analysis\n",
    "if 'SaleInstrument' in df_main.columns:\n",
    "    df_main.drop('SaleInstrument', axis=1, inplace=True)"
   ]
  },
  {
   "cell_type": "code",
   "execution_count": 10,
   "metadata": {},
   "outputs": [
    {
     "data": {
      "image/png": "[encoded data removed]",
      "text/plain": [
       "<Figure size 432x288 with 2 Axes>"
      ]
     },
     "metadata": {
      "needs_background": "light"
     },
     "output_type": "display_data"
    }
   ],
   "source": [
    "# GAIN UNDERSTANDING OF \"FP\" MEASUREMENTS\n",
    "\n",
    "fireplaces = df_main[['FpSingleStory', 'FpMultiStory', 'FpFreestanding', 'FpAdditional']].copy()\n",
    "fireplaces['FpTotal'] = fireplaces.sum(axis=1)\n",
    "\n",
    "# Reorder to make Correlation Matrix easier to understand\n",
    "fireplaces = fireplaces[['FpTotal', 'FpSingleStory', 'FpMultiStory', 'FpFreestanding', 'FpAdditional']]\n",
    "\n",
    "\n",
    "# Test correlation of Total with individuals\n",
    "corr = pd.concat([df_main.SalePrice, fireplaces], axis=1).corr()\n",
    "sns.heatmap(corr, annot=True)\n",
    "\n",
    "\n",
    "# As we can see, the total number of fireplaces is a much stronger indicator than breaking down into semi-meaningless distinctions\n",
    "# Drop columns determined to be less valuable\n",
    "fp_cols_to_drop = ['FpSingleStory', 'FpMultiStory', 'FpFreestanding', 'FpAdditional']\n",
    "for col in fp_cols_to_drop:\n",
    "    if col in df_main.columns:\n",
    "        df_main.drop(col, axis=1, inplace=True)\n",
    "\n",
    "df_main['Fireplaces'] = fireplaces['FpTotal']"
   ]
  },
  {
   "cell_type": "code",
   "execution_count": 11,
   "metadata": {},
   "outputs": [
    {
     "name": "stdout",
     "output_type": "stream",
     "text": [
      "0.0    7418\n",
      "1.0    4727\n",
      "Name: DaylightBasement, dtype: int64\n",
      "na count: 5998\n"
     ]
    },
    {
     "data": {
      "image/png": "[encoded data removed]",
      "text/plain": [
       "<Figure size 432x288 with 2 Axes>"
      ]
     },
     "metadata": {
      "needs_background": "light"
     },
     "output_type": "display_data"
    }
   ],
   "source": [
    "# INVESTIGATE 'DaylightBasement'\n",
    "# As we can see, there are nearly 6,000 sales (1/3 of our full dataset) that do not have information for this category\n",
    "# At this point, unless there is a strong correlation with SalePrice, it doesn't make sense to sacrifice that much data\n",
    "\n",
    "# Create dataframe with relevant data\n",
    "daylight = df_main[['SalePrice', 'DaylightBasement']]\n",
    "\n",
    "# Determine number of missing values\n",
    "print(daylight.DaylightBasement.value_counts())\n",
    "print('na count:', daylight.shape[0] - daylight.DaylightBasement.value_counts().sum())\n",
    "\n",
    "# Check correlation\n",
    "corr = daylight.corr()\n",
    "sns.heatmap(corr, annot=True);\n",
    "\n",
    "# Conclusion: drop DaylightBasement from the analysis\n",
    "\n",
    "if 'DaylightBasement' in df_main.columns:\n",
    "    df_main.drop('DaylightBasement', axis=1, inplace=True)"
   ]
  },
  {
   "cell_type": "code",
   "execution_count": 12,
   "metadata": {},
   "outputs": [
    {
     "name": "stdout",
     "output_type": "stream",
     "text": [
      "0.0    8440\n",
      "1.0     406\n",
      "Name: ViewUtilization, dtype: int64\n",
      "na count: 9297\n"
     ]
    },
    {
     "data": {
      "image/png": "[encoded data removed]",
      "text/plain": [
       "<Figure size 432x288 with 2 Axes>"
      ]
     },
     "metadata": {
      "needs_background": "light"
     },
     "output_type": "display_data"
    }
   ],
   "source": [
    "# INVESTIGATE 'ViewUtilization'\n",
    "# Similar reasoning to DaylightBasement above\n",
    "\n",
    "view_util = df_main[['SalePrice', 'ViewUtilization']]\n",
    "\n",
    "# Determine number of missing values\n",
    "print(view_util.ViewUtilization.value_counts())\n",
    "print('na count:', view_util.shape[0] - view_util.ViewUtilization.value_counts().sum())\n",
    "\n",
    "# Check correlation\n",
    "corr = view_util.corr()\n",
    "sns.heatmap(corr, annot=True);\n",
    "\n",
    "# Conclusion\n",
    "# Although the correlation is higher than DaylightBasement, it still isn't huge. Over half of the dataset does not\n",
    "# have ViewUtilization data, therefore making it unwise to keep it in the rest of the analysis\n",
    "\n",
    "df_main.drop('ViewUtilization', axis=1, inplace=True)"
   ]
  },
  {
   "cell_type": "code",
   "execution_count": 13,
   "metadata": {},
   "outputs": [],
   "source": [
    "# *** WRITE TO SQL DB ***\n",
    "\n",
    "conn = sqlite3.connect('../../data/processed/main.db')\n",
    "df_main.to_sql('step2_encoded', conn, if_exists='replace')\n",
    "conn.close()\n",
    "# ******"
   ]
  },
  {
   "cell_type": "code",
   "execution_count": null,
   "metadata": {},
   "outputs": [],
   "source": []
  },
  {
   "cell_type": "code",
   "execution_count": null,
   "metadata": {},
   "outputs": [],
   "source": []
  }
 ],
 "metadata": {
  "kernelspec": {
   "display_name": "Python 3",
   "language": "python",
   "name": "python3"
  },
  "language_info": {
   "codemirror_mode": {
    "name": "ipython",
    "version": 3
   },
   "file_extension": ".py",
   "mimetype": "text/x-python",
   "name": "python",
   "nbconvert_exporter": "python",
   "pygments_lexer": "ipython3",
   "version": "3.8.3"
  }
 },
 "nbformat": 4,
 "nbformat_minor": 4
}
