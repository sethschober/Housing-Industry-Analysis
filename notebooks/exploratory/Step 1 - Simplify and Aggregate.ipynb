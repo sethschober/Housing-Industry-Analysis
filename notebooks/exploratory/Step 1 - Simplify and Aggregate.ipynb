{
 "cells": [
  {
   "cell_type": "markdown",
   "metadata": {},
   "source": [
    "Import necessary packages"
   ]
  },
  {
   "cell_type": "code",
   "execution_count": 1,
   "metadata": {},
   "outputs": [],
   "source": [
    "import numpy as np\n",
    "import pandas as pd\n",
    "import sqlite3\n",
    "import os, sys\n",
    "\n",
    "path_to_src = os.path.join('..', '..', 'src')\n",
    "sys.path.insert(1, path_to_src)\n",
    "from custom_functions import *\n",
    "\n",
    "pd.set_option('display.max_rows', 100)\n",
    "pd.set_option('display.max_columns', 100)\n",
    "%load_ext autoreload\n",
    "%autoreload 2"
   ]
  },
  {
   "cell_type": "markdown",
   "metadata": {},
   "source": [
    "Import datasets and packages"
   ]
  },
  {
   "cell_type": "code",
   "execution_count": 2,
   "metadata": {},
   "outputs": [],
   "source": [
    "df_lookup = pd.read_csv(os.path.join('..','..', 'data', 'raw', 'EXTR_LookUp.csv'), dtype='str')\n",
    "df_resbldg = pd.read_csv(os.path.join('..','..', 'data', 'raw', 'EXTR_ResBldg.csv'), dtype='str')\n",
    "df_rpsale = pd.read_csv(os.path.join('..','..', 'data', 'raw', 'EXTR_RpSale.csv'), dtype='str')"
   ]
  },
  {
   "cell_type": "markdown",
   "metadata": {},
   "source": [
    "Strip leading and trailing spaces"
   ]
  },
  {
   "cell_type": "code",
   "execution_count": 3,
   "metadata": {},
   "outputs": [],
   "source": [
    "df_lookup = strip_spaces(df_lookup)\n",
    "df_resbldg = strip_spaces(df_resbldg)\n",
    "df_rpsale = strip_spaces(df_rpsale)"
   ]
  },
  {
   "cell_type": "markdown",
   "metadata": {},
   "source": [
    "Drop columns that are obviously unnecessary"
   ]
  },
  {
   "cell_type": "code",
   "execution_count": 4,
   "metadata": {},
   "outputs": [],
   "source": [
    "resbldg_desired_columns = ['Major', 'Minor', 'NbrLivingUnits', 'Stories', 'BldgGrade', \n",
    "                           'BldgGradeVar', 'SqFt1stFloor', 'SqFtHalfFloor', 'SqFt2ndFloor',\n",
    "                           'SqFtUpperFloor', 'SqFtUnfinFull', 'SqFtUnfinHalf', 'SqFtTotLiving', 'SqFtTotBasement', \n",
    "                           'SqFtFinBasement', 'FinBasementGrade', 'SqFtGarageBasement', 'SqFtGarageAttached', \n",
    "                           'DaylightBasement','SqFtOpenPorch', 'SqFtEnclosedPorch', 'SqFtDeck', 'HeatSystem',\n",
    "                           'HeatSource', 'BrickStone', 'ViewUtilization', 'Bedrooms','BathHalfCount', \n",
    "                           'Bath3qtrCount', 'BathFullCount', 'FpSingleStory','FpMultiStory', 'FpFreestanding', \n",
    "                           'FpAdditional', 'YrBuilt','YrRenovated', 'PcntComplete', 'Obsolescence', \n",
    "                           'PcntNetCondition','Condition']\n",
    "df_resbldg = df_resbldg[resbldg_desired_columns].copy()\n",
    "\n",
    "rpsale_desired_columns = ['ExciseTaxNbr', 'Major', 'Minor', 'DocumentDate', 'SalePrice', 'RecordingNbr', 'PropertyType', \n",
    "                          'PrincipalUse', 'SaleInstrument', 'AFForestLand', 'AFCurrentUseLand', 'AFNonProfitUse', \n",
    "                          'AFHistoricProperty', 'SaleReason', 'PropertyClass', 'SaleWarning']\n",
    "df_rpsale = df_rpsale[rpsale_desired_columns]\n",
    "\n",
    "# Create ParcelIDs\n",
    "df_rpsale['Parcel_ID'] = df_rpsale.Major + '-' + df_rpsale.Minor\n",
    "df_resbldg['Parcel_ID'] = df_resbldg.Major + '-' + df_resbldg.Minor"
   ]
  },
  {
   "cell_type": "markdown",
   "metadata": {},
   "source": [
    "## Refine *Sales* DataFrame"
   ]
  },
  {
   "cell_type": "markdown",
   "metadata": {},
   "source": [
    "**Eliminate irrelevant property types, non-2019 sales, and add necessary helper columns**"
   ]
  },
  {
   "cell_type": "code",
   "execution_count": 5,
   "metadata": {},
   "outputs": [],
   "source": [
    "res_sales = df_rpsale.copy()\n",
    "\n",
    "principal_use_codes_to_keep = ['6'] # Consider investigating '4' too \n",
    "principal_use_codes_to_drop = np.setdiff1d(res_sales.PrincipalUse.unique(), principal_use_codes_to_keep)\n",
    "\n",
    "property_class_codes_to_keep = ['8']\n",
    "property_class_codes_to_drop = np.setdiff1d(res_sales.PropertyClass.unique(), property_class_codes_to_keep)\n",
    "\n",
    "# Need to consider where to classify codes like 2,3 since there isn't an explicit statement\n",
    "#    - Possible to disregard entirely, explore data first\n",
    "# Consider looking into single-family and multiple-family separately\n",
    "property_type_codes_to_keep =['11']# ['2', '3', '6', '10', '11', '12', '13', '18', '19']\n",
    "property_type_codes_to_drop = np.setdiff1d(res_sales.PropertyType.unique(), property_type_codes_to_keep)\n",
    "\n",
    "for code in principal_use_codes_to_drop:\n",
    "    res_sales['PrincipalUse'].replace(to_replace=code, value=np.nan, inplace=True)\n",
    "\n",
    "for code in property_class_codes_to_drop:\n",
    "    res_sales['PropertyClass'].replace(to_replace=code, value=np.nan, inplace=True)\n",
    "\n",
    "for code in property_type_codes_to_drop:\n",
    "    res_sales['PropertyType'].replace(to_replace=code, value=np.nan, inplace=True)\n",
    "\n",
    "## CREATE PARCEL ID\n",
    "#res_sales['Parcel_ID'] = res_sales.Major + '-' + res_sales.Minor\n",
    "\n",
    "\n",
    "\n",
    "# KEEP ONLY 2019 SALES\n",
    "res_sales['DocumentDate'] = res_sales.DocumentDate.astype(np.datetime64)\n",
    "res_sales['SaleYear'] = [sale.year for sale in res_sales['DocumentDate']]\n",
    "res_sales = res_sales.loc[res_sales['SaleYear']==2019].copy()\n",
    "\n",
    "\n",
    "# ELIMINATE UNREALISTICALLY SMALL SALES\n",
    "min_acceptable_sale_price = 25000\n",
    "res_sales['SalePrice'] = res_sales.SalePrice.astype('int')\n",
    "#res_sales['SalePrice'].replace(0, np.nan, inplace=True)\n",
    "res_sales = res_sales.loc[res_sales.SalePrice > min_acceptable_sale_price].copy()\n",
    "\n",
    "# DROP SALES DETERMINED TO BE INVALID\n",
    "res_sales.dropna(inplace=True)\n",
    "\n",
    "\n",
    "# CREATE COLUMN TO IDENTIFY DUPLICATES\n",
    "res_sales['SaleCount'] = list(map(dict(res_sales.Parcel_ID.value_counts()).get, res_sales.Parcel_ID))"
   ]
  },
  {
   "cell_type": "markdown",
   "metadata": {},
   "source": [
    "**Remove sales for a given property that are not the most recent**\n",
    "\n",
    "This prevents re-sale of homes from counting for multiple entries, which would overrepresent homes that tend to be resold within the final model. More importantly, it is a necessary step in order to join the Sales database with the Residential Building database"
   ]
  },
  {
   "cell_type": "code",
   "execution_count": 6,
   "metadata": {},
   "outputs": [],
   "source": [
    "def identify_latest_sale(docdates, parcel_ids):\n",
    "    latest_parcel_sale = []\n",
    "    data = pd.DataFrame([docdates, parcel_ids]).T\n",
    "    data.DocumentDate = data.DocumentDate.astype('datetime64')\n",
    " \n",
    "    for i, parcel_id in enumerate(data.Parcel_ID):\n",
    "        relevant_docdates = data.loc[data.Parcel_ID == parcel_id, 'DocumentDate']\n",
    "        max_docdate = relevant_docdates.values.max()\n",
    "        \n",
    "        this_datetime = np.datetime64(data.iloc[i, 0]) \n",
    "        latest_parcel_sale.append(this_datetime == max_docdate)\n",
    "\n",
    "    return latest_parcel_sale\n",
    "\n",
    "tf = identify_latest_sale(res_sales.DocumentDate, res_sales.Parcel_ID)\n",
    "latest_sales = res_sales.loc[tf].copy()\n",
    "latest_sales['SaleCount'] = list(map(dict(latest_sales.Parcel_ID.value_counts()).get, latest_sales.Parcel_ID))"
   ]
  },
  {
   "cell_type": "markdown",
   "metadata": {},
   "source": [
    "**Determine average price for multiple sales on the same day on the same parcel**\n",
    "\n",
    "This is a necessary step to joining the Sales database with the Residential Building database by removing duplicate entries without losing the valuable sales price data that would be lost by dropping a duplicate at random."
   ]
  },
  {
   "cell_type": "code",
   "execution_count": 7,
   "metadata": {},
   "outputs": [
    {
     "data": {
      "text/html": [
       "<div>\n",
       "<style scoped>\n",
       "    .dataframe tbody tr th:only-of-type {\n",
       "        vertical-align: middle;\n",
       "    }\n",
       "\n",
       "    .dataframe tbody tr th {\n",
       "        vertical-align: top;\n",
       "    }\n",
       "\n",
       "    .dataframe thead th {\n",
       "        text-align: right;\n",
       "    }\n",
       "</style>\n",
       "<table border=\"1\" class=\"dataframe\">\n",
       "  <thead>\n",
       "    <tr style=\"text-align: right;\">\n",
       "      <th></th>\n",
       "      <th>SalePrice</th>\n",
       "      <th>Parcel_ID</th>\n",
       "      <th>PropertyType</th>\n",
       "      <th>PrincipalUse</th>\n",
       "      <th>SaleInstrument</th>\n",
       "      <th>AFForestLand</th>\n",
       "      <th>AFCurrentUseLand</th>\n",
       "      <th>AFNonProfitUse</th>\n",
       "      <th>AFHistoricProperty</th>\n",
       "      <th>SaleReason</th>\n",
       "      <th>PropertyClass</th>\n",
       "      <th>SaleWarning</th>\n",
       "    </tr>\n",
       "  </thead>\n",
       "  <tbody>\n",
       "    <tr>\n",
       "      <th>213043-0120</th>\n",
       "      <td>560000</td>\n",
       "      <td>213043-0120</td>\n",
       "      <td>11</td>\n",
       "      <td>6</td>\n",
       "      <td>3</td>\n",
       "      <td>N</td>\n",
       "      <td>N</td>\n",
       "      <td>N</td>\n",
       "      <td>N</td>\n",
       "      <td>1</td>\n",
       "      <td>8</td>\n",
       "      <td></td>\n",
       "    </tr>\n",
       "    <tr>\n",
       "      <th>940652-0630</th>\n",
       "      <td>435000</td>\n",
       "      <td>940652-0630</td>\n",
       "      <td>11</td>\n",
       "      <td>6</td>\n",
       "      <td>3</td>\n",
       "      <td>N</td>\n",
       "      <td>N</td>\n",
       "      <td>N</td>\n",
       "      <td>N</td>\n",
       "      <td>1</td>\n",
       "      <td>8</td>\n",
       "      <td></td>\n",
       "    </tr>\n",
       "    <tr>\n",
       "      <th>347050-0040</th>\n",
       "      <td>648500</td>\n",
       "      <td>347050-0040</td>\n",
       "      <td>11</td>\n",
       "      <td>6</td>\n",
       "      <td>3</td>\n",
       "      <td>N</td>\n",
       "      <td>N</td>\n",
       "      <td>N</td>\n",
       "      <td>N</td>\n",
       "      <td>1</td>\n",
       "      <td>8</td>\n",
       "      <td></td>\n",
       "    </tr>\n",
       "  </tbody>\n",
       "</table>\n",
       "</div>"
      ],
      "text/plain": [
       "             SalePrice    Parcel_ID PropertyType PrincipalUse  SaleInstrument  \\\n",
       "213043-0120     560000  213043-0120           11            6               3   \n",
       "940652-0630     435000  940652-0630           11            6               3   \n",
       "347050-0040     648500  347050-0040           11            6               3   \n",
       "\n",
       "            AFForestLand AFCurrentUseLand AFNonProfitUse AFHistoricProperty  \\\n",
       "213043-0120            N                N              N                  N   \n",
       "940652-0630            N                N              N                  N   \n",
       "347050-0040            N                N              N                  N   \n",
       "\n",
       "            SaleReason PropertyClass SaleWarning  \n",
       "213043-0120          1             8              \n",
       "940652-0630          1             8              \n",
       "347050-0040          1             8              "
      ]
     },
     "execution_count": 7,
     "metadata": {},
     "output_type": "execute_result"
    }
   ],
   "source": [
    "def avg_price_for_duped_parcels(data):\n",
    "    dupes = data.loc[data.SaleCount > 1]\n",
    "    for i, ind in enumerate(dupes.index):\n",
    "        parcel_id = data.loc[ind, 'Parcel_ID']\n",
    "        parcels_w_parcel_id = data.loc[data.Parcel_ID == parcel_id, 'SalePrice']\n",
    "\n",
    "        avg_price_for_id = parcels_w_parcel_id.values.mean()\n",
    "        for parcel_index in parcels_w_parcel_id.index:\n",
    "            data.at[parcel_index, 'SalePrice'] = avg_price_for_id\n",
    "    return data\n",
    "\n",
    "# Average pricing for duplicates\n",
    "latest_sales_averaged = avg_price_for_duped_parcels(latest_sales)\n",
    "latest_sales_averaged['SaleCount'] = list(map(dict(latest_sales_averaged.Parcel_ID.value_counts()).get, latest_sales_averaged.Parcel_ID))\n",
    "\n",
    "\n",
    "# Remove duplicates\n",
    "latest_sales_averaged.index = latest_sales_averaged.Parcel_ID.values\n",
    "latest_sales_averaged_deduped = latest_sales_averaged.drop_duplicates('Parcel_ID')\n",
    "latest_sales_averaged_deduped.reset_index(inplace=True, drop=True)\n",
    "latest_sales_averaged_deduped.index = latest_sales_averaged_deduped.Parcel_ID.values\n",
    "\n",
    "\n",
    "# Drop unused columns as final step of cleaning before join\n",
    "latest_sales_averaged_deduped_tokeep = ['SalePrice', 'Parcel_ID', 'PropertyType', 'PrincipalUse', \n",
    "                                        'SaleInstrument', 'AFForestLand', 'AFCurrentUseLand', \n",
    "                                        'AFNonProfitUse', 'AFHistoricProperty', 'SaleReason', \n",
    "                                        'PropertyClass', 'SaleWarning']\n",
    "sales = latest_sales_averaged_deduped[latest_sales_averaged_deduped_tokeep].copy()\n",
    "sales['SaleInstrument'] = sales.SaleInstrument.astype('int64')\n",
    "\n",
    "\n",
    "sales.head(3)"
   ]
  },
  {
   "cell_type": "code",
   "execution_count": 8,
   "metadata": {},
   "outputs": [
    {
     "name": "stdout",
     "output_type": "stream",
     "text": [
      "<class 'pandas.core.frame.DataFrame'>\n",
      "Index: 18228 entries, 213043-0120 to 033310-0255\n",
      "Data columns (total 12 columns):\n",
      " #   Column              Non-Null Count  Dtype \n",
      "---  ------              --------------  ----- \n",
      " 0   SalePrice           18228 non-null  int32 \n",
      " 1   Parcel_ID           18228 non-null  object\n",
      " 2   PropertyType        18228 non-null  object\n",
      " 3   PrincipalUse        18228 non-null  object\n",
      " 4   SaleInstrument      18228 non-null  int64 \n",
      " 5   AFForestLand        18228 non-null  object\n",
      " 6   AFCurrentUseLand    18228 non-null  object\n",
      " 7   AFNonProfitUse      18228 non-null  object\n",
      " 8   AFHistoricProperty  18228 non-null  object\n",
      " 9   SaleReason          18228 non-null  object\n",
      " 10  PropertyClass       18228 non-null  object\n",
      " 11  SaleWarning         18228 non-null  object\n",
      "dtypes: int32(1), int64(1), object(10)\n",
      "memory usage: 1.7+ MB\n"
     ]
    }
   ],
   "source": [
    "sales.info()"
   ]
  },
  {
   "cell_type": "markdown",
   "metadata": {},
   "source": [
    "# Handle Residential Building dataframe"
   ]
  },
  {
   "cell_type": "markdown",
   "metadata": {},
   "source": [
    "Basic preparation of residential building database"
   ]
  },
  {
   "cell_type": "code",
   "execution_count": 9,
   "metadata": {},
   "outputs": [],
   "source": [
    "convert_to_int = ['SqFtOpenPorch', 'SqFtEnclosedPorch', 'Bedrooms', 'SqFtGarageAttached', 'SqFtGarageBasement', 'NbrLivingUnits', 'BldgGrade', 'SqFt1stFloor',\n",
    "                  'SqFtHalfFloor', 'SqFt2ndFloor', 'SqFtUpperFloor', 'SqFtUnfinFull', 'SqFtUnfinHalf','SqFtTotLiving', 'SqFtTotBasement', 'SqFtFinBasement', \n",
    "                  'FinBasementGrade', 'SqFtGarageBasement', 'SqFtGarageAttached', 'SqFtOpenPorch', 'SqFtEnclosedPorch', 'SqFtDeck', 'BathHalfCount', \n",
    "                  'Bath3qtrCount', 'BathFullCount', 'FpSingleStory', 'FpMultiStory', 'FpFreestanding', 'FpAdditional', 'YrBuilt', 'YrRenovated', 'BrickStone']\n",
    "for category in convert_to_int:\n",
    "    df_resbldg[category] = df_resbldg[category].astype('int')\n",
    "    \n",
    "convert_to_float = ['Stories']\n",
    "for category in convert_to_float:\n",
    "    df_resbldg[category] = df_resbldg[category].astype('float')\n",
    "    \n",
    "# Nit-picky\n",
    "df_resbldg['DaylightBasement'] = df_resbldg['DaylightBasement'].str.upper() # Data cleaning for inconsistent casing\n",
    "df_resbldg = df_resbldg.loc[df_resbldg.PcntComplete.astype('str') == '0'].copy() # Remove buildings that aren't complete\n",
    "df_resbldg = df_resbldg.loc[df_resbldg.Obsolescence.astype('str') == '0'].copy() # Remove buildings in obsolescence process\n",
    "df_resbldg = df_resbldg.loc[df_resbldg.PcntNetCondition.astype('str') == '0'].copy() # Remove 6 outliers in abnormal condition"
   ]
  },
  {
   "cell_type": "markdown",
   "metadata": {},
   "source": [
    "### Join with SQL and Export"
   ]
  },
  {
   "cell_type": "code",
   "execution_count": 11,
   "metadata": {},
   "outputs": [],
   "source": [
    "path_to_db = os.path.join('..', '..', 'data', 'main.db')\n",
    "conn = sqlite3.connect(path_to_db)\n",
    "df_resbldg.to_sql('buildings', conn, if_exists='replace')\n",
    "sales.to_sql('sales', conn, if_exists='replace')\n",
    "\n",
    "q = ''' SELECT * FROM buildings\n",
    "LEFT JOIN sales USING (Parcel_ID)'''\n",
    "\n",
    "joined = pd.read_sql(q, conn)\n",
    "\n",
    "\n",
    "keepers = ['SalePrice', 'NbrLivingUnits', 'Stories', 'BldgGrade', 'SqFt1stFloor', 'SqFtHalfFloor', 'SqFt2ndFloor', \n",
    "'SqFtUpperFloor', 'SqFtUnfinFull', 'SqFtUnfinHalf', 'SqFtTotLiving', 'SqFtTotBasement', 'SqFtFinBasement', 'FinBasementGrade', 'SqFtGarageBasement', \n",
    "'SqFtGarageAttached', 'DaylightBasement', 'SqFtOpenPorch', 'SqFtEnclosedPorch', 'SqFtDeck', 'HeatSystem', 'HeatSource', 'BrickStone', 'ViewUtilization', \n",
    "'Bedrooms', 'BathHalfCount', 'Bath3qtrCount', 'BathFullCount', 'FpSingleStory', 'FpMultiStory', 'FpFreestanding', 'FpAdditional', 'YrBuilt', \n",
    " 'YrRenovated', 'Condition', 'SaleInstrument']\n",
    "df_main = joined[keepers].copy()\n",
    "\n",
    "\n",
    "df_main.dropna(inplace=True)\n",
    "df_main.reset_index(inplace=True, drop=True)\n",
    "\n",
    "\n",
    "\n",
    "df_main['SalePrice'] = df_main['SalePrice'].astype('int64')\n",
    "df_main['SaleInstrument'] = df_main['SaleInstrument'].astype('int64')\n",
    "\n",
    "YN_converter = lambda x: 1 if ((x == 'Y')|(x==1)) else 0 if ((x == 'N')|(x==0)) else np.nan\n",
    "df_main.DaylightBasement = df_main.DaylightBasement.apply(YN_converter) # NOTE THAT THIS CAUSES LOTS OF NA'S!\n",
    "df_main.ViewUtilization = df_main.ViewUtilization.apply(YN_converter) # NOTE THAT THIS CAUSES LOTS OF NA'S!\n",
    "\n",
    "# Store primary dataframe in SQL database\n",
    "df_main.to_sql('step1_aggregated', conn, if_exists='replace')\n",
    "\n",
    "\n",
    "# Store the lookup codes in the SQL database in case they are needed downstream\n",
    "df_lookup.to_sql('lookups', conn, if_exists='replace')\n",
    "\n",
    "conn.close()"
   ]
  }
 ],
 "metadata": {
  "kernelspec": {
   "display_name": "Python 3",
   "language": "python",
   "name": "python3"
  },
  "language_info": {
   "codemirror_mode": {
    "name": "ipython",
    "version": 3
   },
   "file_extension": ".py",
   "mimetype": "text/x-python",
   "name": "python",
   "nbconvert_exporter": "python",
   "pygments_lexer": "ipython3",
   "version": "3.8.3"
  }
 },
 "nbformat": 4,
 "nbformat_minor": 4
}
