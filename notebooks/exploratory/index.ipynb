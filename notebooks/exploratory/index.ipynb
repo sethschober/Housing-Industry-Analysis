{
 "cells": [
  {
   "cell_type": "markdown",
   "metadata": {},
   "source": [
    "Import necessary packages"
   ]
  },
  {
   "cell_type": "code",
   "execution_count": 1,
   "metadata": {},
   "outputs": [],
   "source": [
    "import numpy as np\n",
    "import pandas as pd\n",
    "import matplotlib.pyplot as plt\n",
    "pd.set_option('display.max_rows', 500)"
   ]
  },
  {
   "cell_type": "markdown",
   "metadata": {},
   "source": [
    "Import datasets and packages"
   ]
  },
  {
   "cell_type": "code",
   "execution_count": 2,
   "metadata": {},
   "outputs": [],
   "source": [
    "df_lookup = pd.read_csv('../../data/raw/EXTR_LookUp.csv', dtype='str')\n",
    "df_parcel = pd.read_csv('../../data/raw/EXTR_PARCEL.csv', dtype='str')\n",
    "df_resbldg = pd.read_csv('../../data/raw/EXTR_ResBldg.csv', dtype='str')\n",
    "df_rpsale = pd.read_csv('../../data/raw/EXTR_RPSale.csv', dtype='str')"
   ]
  },
  {
   "cell_type": "markdown",
   "metadata": {},
   "source": [
    "Strip leading and trailing spaces"
   ]
  },
  {
   "cell_type": "code",
   "execution_count": 3,
   "metadata": {},
   "outputs": [],
   "source": [
    "def strip_spaces(df):\n",
    "    for col in df.columns:\n",
    "        df[col] = df[col].str.strip()\n",
    "    return df\n",
    "\n",
    "df_lookup = strip_spaces(df_lookup)\n",
    "df_parcel = strip_spaces(df_parcel)\n",
    "df_resbldg = strip_spaces(df_resbldg)\n",
    "df_rpsale = strip_spaces(df_rpsale)"
   ]
  },
  {
   "cell_type": "markdown",
   "metadata": {},
   "source": [
    "Define function to remove *x* std deviations of data from an input"
   ]
  },
  {
   "cell_type": "code",
   "execution_count": 4,
   "metadata": {},
   "outputs": [],
   "source": [
    "def remove_extremes(data, devct):\n",
    "    data = pd.Series([float(num) for num in data])\n",
    "    cleaned = data.loc[data>0].copy()\n",
    "\n",
    "    std = cleaned.std()\n",
    "    med = cleaned.median()\n",
    "\n",
    "    cleaned = cleaned.loc[(cleaned > (med - std*devct)) & (cleaned < (med+std*devct))].copy() \n",
    "    return cleaned"
   ]
  },
  {
   "cell_type": "markdown",
   "metadata": {},
   "source": [
    "Define function to retrieve list of lookups from file dictionary"
   ]
  },
  {
   "cell_type": "code",
   "execution_count": 5,
   "metadata": {},
   "outputs": [],
   "source": [
    "def get_lookups(LUType):\n",
    "    LUType = str(LUType)\n",
    "    \n",
    "    category = df_lookup.loc[df_lookup['LUType'] == LUType].copy()\n",
    "    category = category.sort_values(by='LUItem')\n",
    "    result = dict(zip(category.LUItem.str.strip(), category.LUDescription))\n",
    "    return result"
   ]
  },
  {
   "cell_type": "markdown",
   "metadata": {},
   "source": [
    "Define function to one-hot encode and rename columns"
   ]
  },
  {
   "cell_type": "code",
   "execution_count": null,
   "metadata": {},
   "outputs": [],
   "source": [
    "from sklearn.preprocessing import OneHotEncoder\n",
    "ohe = OneHotEncoder(sparse=False, drop='first')\n",
    "\n",
    "def onehot(srs, prefix='x', name_lookup = False):\n",
    "    df = pd.DataFrame(srs)\n",
    "    df = pd.DataFrame(ohe.fit_transform(df))\n",
    "    \n",
    "    if name_lookup == False:    \n",
    "        names = ohe.get_feature_names()\n",
    "        new_names = [prefix+'_'+x[3:] for x in names]\n",
    "        df.columns = new_names\n",
    "    else:\n",
    "        names = ohe.get_feature_names()\n",
    "        codes = [x[3:] for x in names]\n",
    "        new_names = [name_lookup[x] for x in codes]\n",
    "        df.columns = new_names\n",
    "    return df"
   ]
  },
  {
   "cell_type": "markdown",
   "metadata": {},
   "source": [
    "**Create DataFrame for Porch metrics**"
   ]
  },
  {
   "cell_type": "code",
   "execution_count": 16,
   "metadata": {
    "scrolled": true
   },
   "outputs": [
    {
     "data": {
      "text/html": [
       "<div>\n",
       "<style scoped>\n",
       "    .dataframe tbody tr th:only-of-type {\n",
       "        vertical-align: middle;\n",
       "    }\n",
       "\n",
       "    .dataframe tbody tr th {\n",
       "        vertical-align: top;\n",
       "    }\n",
       "\n",
       "    .dataframe thead th {\n",
       "        text-align: right;\n",
       "    }\n",
       "</style>\n",
       "<table border=\"1\" class=\"dataframe\">\n",
       "  <thead>\n",
       "    <tr style=\"text-align: right;\">\n",
       "      <th></th>\n",
       "      <th>Parcel_ID</th>\n",
       "      <th>SqFtOpenPorch</th>\n",
       "      <th>SqFtEnclosedPorch</th>\n",
       "    </tr>\n",
       "  </thead>\n",
       "  <tbody>\n",
       "    <tr>\n",
       "      <th>0</th>\n",
       "      <td>009800-0720</td>\n",
       "      <td>0</td>\n",
       "      <td>0</td>\n",
       "    </tr>\n",
       "    <tr>\n",
       "      <th>1</th>\n",
       "      <td>009802-0140</td>\n",
       "      <td>380</td>\n",
       "      <td>0</td>\n",
       "    </tr>\n",
       "    <tr>\n",
       "      <th>2</th>\n",
       "      <td>009830-0020</td>\n",
       "      <td>360</td>\n",
       "      <td>0</td>\n",
       "    </tr>\n",
       "    <tr>\n",
       "      <th>3</th>\n",
       "      <td>009830-0160</td>\n",
       "      <td>690</td>\n",
       "      <td>0</td>\n",
       "    </tr>\n",
       "    <tr>\n",
       "      <th>4</th>\n",
       "      <td>010050-0180</td>\n",
       "      <td>60</td>\n",
       "      <td>0</td>\n",
       "    </tr>\n",
       "    <tr>\n",
       "      <th>...</th>\n",
       "      <td>...</td>\n",
       "      <td>...</td>\n",
       "      <td>...</td>\n",
       "    </tr>\n",
       "    <tr>\n",
       "      <th>181505</th>\n",
       "      <td>197220-1902</td>\n",
       "      <td>0</td>\n",
       "      <td>0</td>\n",
       "    </tr>\n",
       "    <tr>\n",
       "      <th>181506</th>\n",
       "      <td>197220-2224</td>\n",
       "      <td>0</td>\n",
       "      <td>0</td>\n",
       "    </tr>\n",
       "    <tr>\n",
       "      <th>181507</th>\n",
       "      <td>197220-5172</td>\n",
       "      <td>0</td>\n",
       "      <td>0</td>\n",
       "    </tr>\n",
       "    <tr>\n",
       "      <th>181508</th>\n",
       "      <td>197220-5173</td>\n",
       "      <td>0</td>\n",
       "      <td>0</td>\n",
       "    </tr>\n",
       "    <tr>\n",
       "      <th>181509</th>\n",
       "      <td>197220-5593</td>\n",
       "      <td>70</td>\n",
       "      <td>0</td>\n",
       "    </tr>\n",
       "  </tbody>\n",
       "</table>\n",
       "<p>181510 rows × 3 columns</p>\n",
       "</div>"
      ],
      "text/plain": [
       "          Parcel_ID  SqFtOpenPorch  SqFtEnclosedPorch\n",
       "0       009800-0720              0                  0\n",
       "1       009802-0140            380                  0\n",
       "2       009830-0020            360                  0\n",
       "3       009830-0160            690                  0\n",
       "4       010050-0180             60                  0\n",
       "...             ...            ...                ...\n",
       "181505  197220-1902              0                  0\n",
       "181506  197220-2224              0                  0\n",
       "181507  197220-5172              0                  0\n",
       "181508  197220-5173              0                  0\n",
       "181509  197220-5593             70                  0\n",
       "\n",
       "[181510 rows x 3 columns]"
      ]
     },
     "execution_count": 16,
     "metadata": {},
     "output_type": "execute_result"
    }
   ],
   "source": [
    "porch = df_resbldg[['SqFtOpenPorch', 'SqFtEnclosedPorch']].copy()\n",
    "porch['Parcel_ID'] = df_resbldg['Major'] + '-' + df_resbldg['Minor']\n",
    "porch = porch[['Parcel_ID', 'SqFtOpenPorch', 'SqFtEnclosedPorch']].copy()\n",
    "\n",
    "porch['SqFtOpenPorch'] = porch['SqFtOpenPorch'].astype('int')\n",
    "porch['SqFtEnclosedPorch'] = porch['SqFtEnclosedPorch'].astype('int')\n",
    "porch"
   ]
  },
  {
   "cell_type": "markdown",
   "metadata": {},
   "source": [
    "**Create DataFrame for Heating metrics**"
   ]
  },
  {
   "cell_type": "code",
   "execution_count": 17,
   "metadata": {},
   "outputs": [],
   "source": [
    "heating = onehot(df_resbldg['HeatSystem'], name_lookup = get_lookups(108))\n",
    "heating['binary_notforced'] = heating.drop('Forced Air', axis=1).sum(axis=1)\n",
    "heating['binary_forced'] = heating['Forced Air']"
   ]
  },
  {
   "cell_type": "markdown",
   "metadata": {},
   "source": [
    "**Aggregate Porch and Heating metrics**"
   ]
  },
  {
   "cell_type": "code",
   "execution_count": 19,
   "metadata": {},
   "outputs": [],
   "source": [
    "porch_and_heating = pd.concat([porch, heating], axis=1)"
   ]
  },
  {
   "cell_type": "markdown",
   "metadata": {},
   "source": [
    "**Pricing data aggregation**"
   ]
  },
  {
   "cell_type": "code",
   "execution_count": 8,
   "metadata": {},
   "outputs": [],
   "source": [
    "price = df_rpsale.SalePrice\n",
    "\n",
    "# plt.boxplot(price);"
   ]
  },
  {
   "cell_type": "code",
   "execution_count": 9,
   "metadata": {},
   "outputs": [],
   "source": [
    "price = remove_extremes(df_rpsale.SalePrice, 3)\n",
    "#price.hist();\n",
    "#plt.boxplot(price);"
   ]
  }
 ],
 "metadata": {
  "kernelspec": {
   "display_name": "Python 3",
   "language": "python",
   "name": "python3"
  },
  "language_info": {
   "codemirror_mode": {
    "name": "ipython",
    "version": 3
   },
   "file_extension": ".py",
   "mimetype": "text/x-python",
   "name": "python",
   "nbconvert_exporter": "python",
   "pygments_lexer": "ipython3",
   "version": "3.8.3"
  }
 },
 "nbformat": 4,
 "nbformat_minor": 4
}
