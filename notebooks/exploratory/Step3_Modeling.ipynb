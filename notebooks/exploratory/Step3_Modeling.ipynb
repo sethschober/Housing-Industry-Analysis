{
 "cells": [
  {
   "cell_type": "markdown",
   "metadata": {},
   "source": [
    "Import necessary packages"
   ]
  },
  {
   "cell_type": "code",
   "execution_count": 1,
   "metadata": {},
   "outputs": [],
   "source": [
    "import numpy as np\n",
    "import pandas as pd\n",
    "import matplotlib.pyplot as plt\n",
    "import seaborn as sns\n",
    "import sqlite3\n",
    "from statsmodels.formula.api import ols\n",
    "import statsmodels.api as sm\n",
    "\n",
    "pd.set_option('display.max_rows', 100)\n",
    "pd.set_option('display.max_columns', 100)\n",
    "%matplotlib inline\n",
    "%load_ext autoreload\n",
    "%autoreload 2\n",
    "\n",
    "from custom_functions import * #remove_extremes"
   ]
  },
  {
   "cell_type": "markdown",
   "metadata": {},
   "source": [
    "Import dataset that was cleaned and prepared in Data Preparation notebook"
   ]
  },
  {
   "cell_type": "code",
   "execution_count": 2,
   "metadata": {},
   "outputs": [],
   "source": [
    "conn = sqlite3.connect('../../data/processed/main.db')\n",
    "query = '''SELECT * FROM step2_encoded'''\n",
    "df_main = pd.read_sql(query, conn, index_col='index').reset_index(drop=True)\n",
    "#df_main.drop('index', axis=1, inplace=True)\n",
    "df_main.head(3)\n",
    "y = 'SalePrice'"
   ]
  },
  {
   "cell_type": "code",
   "execution_count": 3,
   "metadata": {},
   "outputs": [],
   "source": [
    "def remove_df_extremes(df, devct, drop_zeros=False):\n",
    "    \n",
    "    for col in df.columns:\n",
    "        df[col] = [float(num) for num in df[col]]\n",
    "        med = df[col].median()\n",
    "        std = df[col].std()\n",
    "\n",
    "        max_ = med + devct*std\n",
    "        min_ = 0.0000001 if drop_zeros else med - devct*std \n",
    "\n",
    "        df[col] = [x if ((x>min_) & (x<max_)) else np.nan for x in df[col]]\n",
    "    df.dropna(inplace=True)\n",
    "    return df"
   ]
  },
  {
   "cell_type": "code",
   "execution_count": 4,
   "metadata": {},
   "outputs": [],
   "source": [
    "def produce_model(df, x, y, devct, drop_zeros=False):\n",
    "    model_data = pd.concat([df[y], df[x]], axis=1)\n",
    "    model_data_trimmed = remove_df_extremes(model_data, devct, drop_zeros)\n",
    "\n",
    "    formula = y + ' ~ ' + '+'.join(xs)\n",
    "    \n",
    "    #formula_TESTING = 'SalePrice ~ SqFtTotLiving+Bedrooms+YrBuilt+Condition+Stories'\n",
    "    model = ols(formula, model_data_trimmed).fit()\n",
    "    print(formula)\n",
    "    \n",
    "    return model, model_data_trimmed"
   ]
  },
  {
   "cell_type": "code",
   "execution_count": 5,
   "metadata": {},
   "outputs": [],
   "source": [
    "def qq(df, col):\n",
    "    plt.figure(figsize=(12,6));\n",
    "    sm.graphics.qqplot(df[col], line='45', fit=True)\n",
    "    plt.title(f'Normality Assumption Check: QQ plot of {col} values');"
   ]
  },
  {
   "cell_type": "code",
   "execution_count": 6,
   "metadata": {},
   "outputs": [],
   "source": [
    "def dist(df, x):\n",
    "    plt.figure(figsize=(12,6));\n",
    "    sns.distplot(df[x])\n",
    "    plt.title(f'Distribution of {x} (KDE)')"
   ]
  },
  {
   "cell_type": "code",
   "execution_count": 7,
   "metadata": {},
   "outputs": [],
   "source": [
    "def scatter(df, x, model):\n",
    "    plt.figure(figsize=(12, 6));\n",
    "    sns.lmplot(data = df, x=x, y=y, line_kws={'color':'r'})    \n",
    "    plt.xlabel(x)\n",
    "    plt.ylabel(y)\n",
    "    plt.title(f'Linearity Assumption: {x} vs. {y}');"
   ]
  },
  {
   "cell_type": "code",
   "execution_count": 8,
   "metadata": {},
   "outputs": [],
   "source": [
    "# FUNCTION TAKEN DIRECTLY FROM FLATIRON COURSE MATERIAL (https://github.com/learn-co-curriculum/dsc-model-fit-linear-regression-lab)\n",
    "def stepwise_selection(X, y, \n",
    "                       initial_list=[], \n",
    "                       threshold_in=0.01, \n",
    "                       threshold_out = 0.05, \n",
    "                       verbose=True):\n",
    "    \"\"\" \n",
    "    Perform a forward-backward feature selection \n",
    "    based on p-value from statsmodels.api.OLS\n",
    "    Arguments:\n",
    "        X - pandas.DataFrame with candidate features\n",
    "        y - list-like with the target\n",
    "        initial_list - list of features to start with (column names of X)\n",
    "        threshold_in - include a feature if its p-value < threshold_in\n",
    "        threshold_out - exclude a feature if its p-value > threshold_out\n",
    "        verbose - whether to print the sequence of inclusions and exclusions\n",
    "    Returns: list of selected features \n",
    "    Always set threshold_in < threshold_out to avoid infinite looping.\n",
    "    See https://en.wikipedia.org/wiki/Stepwise_regression for the details\n",
    "    \"\"\"\n",
    "    included = list(initial_list)\n",
    "    while True:\n",
    "        changed=False\n",
    "        # forward step\n",
    "        excluded = list(set(X.columns)-set(included))\n",
    "        new_pval = pd.Series(index=excluded)\n",
    "        for new_column in excluded:\n",
    "            model = sm.OLS(y, sm.add_constant(pd.DataFrame(X[included+[new_column]]))).fit()\n",
    "            new_pval[new_column] = model.pvalues[new_column]\n",
    "        best_pval = new_pval.min()\n",
    "        if best_pval < threshold_in:\n",
    "            best_feature = new_pval.idxmin()\n",
    "            included.append(best_feature)\n",
    "            changed=True\n",
    "            if verbose:\n",
    "                print('Add  {:30} with p-value {:.6}'.format(best_feature, best_pval))\n",
    "\n",
    "        # backward step\n",
    "        model = sm.OLS(y, sm.add_constant(pd.DataFrame(X[included]))).fit()\n",
    "        # use all coefs except intercept\n",
    "        pvalues = model.pvalues.iloc[1:]\n",
    "        worst_pval = pvalues.max() # null if pvalues is empty\n",
    "        if worst_pval > threshold_out:\n",
    "            changed=True\n",
    "            worst_feature = pvalues.argmax()\n",
    "            worst_feature = pvalues.index[worst_feature] # SETH ADDED FROM ORIGINAL TO RESOLVE RUNTIME ERRORS\n",
    "            included.remove(worst_feature)\n",
    "            if verbose:\n",
    "                print('Drop {:30} with p-value {:.6}'.format(worst_feature, worst_pval))\n",
    "        if not changed:\n",
    "            break\n",
    "    return included"
   ]
  },
  {
   "cell_type": "code",
   "execution_count": 9,
   "metadata": {},
   "outputs": [
    {
     "name": "stdout",
     "output_type": "stream",
     "text": [
      "<class 'pandas.core.frame.DataFrame'>\n",
      "RangeIndex: 18143 entries, 0 to 18142\n",
      "Data columns (total 30 columns):\n",
      " #   Column               Non-Null Count  Dtype  \n",
      "---  ------               --------------  -----  \n",
      " 0   SalePrice            18143 non-null  int64  \n",
      " 1   NbrLivingUnits       18143 non-null  int64  \n",
      " 2   Stories              18143 non-null  float64\n",
      " 3   BldgGrade            18143 non-null  int64  \n",
      " 4   SqFtTotLiving        18143 non-null  int64  \n",
      " 5   SqFtTotBasement      18143 non-null  int64  \n",
      " 6   FinBasementGrade     18143 non-null  int64  \n",
      " 7   SqFtGarageAttached   18143 non-null  int64  \n",
      " 8   DaylightBasement     12145 non-null  float64\n",
      " 9   SqFtOpenPorch        18143 non-null  int64  \n",
      " 10  SqFtEnclosedPorch    18143 non-null  int64  \n",
      " 11  SqFtDeck             18143 non-null  int64  \n",
      " 12  HeatSystem           18143 non-null  int64  \n",
      " 13  HeatSource           18143 non-null  int64  \n",
      " 14  BrickStone           18143 non-null  int64  \n",
      " 15  ViewUtilization      8846 non-null   float64\n",
      " 16  Bedrooms             18143 non-null  int64  \n",
      " 17  BathHalfCount        18143 non-null  int64  \n",
      " 18  Bath3qtrCount        18143 non-null  int64  \n",
      " 19  BathFullCount        18143 non-null  int64  \n",
      " 20  FpSingleStory        18143 non-null  int64  \n",
      " 21  FpMultiStory         18143 non-null  int64  \n",
      " 22  FpFreestanding       18143 non-null  int64  \n",
      " 23  FpAdditional         18143 non-null  int64  \n",
      " 24  YrBuilt              18143 non-null  int64  \n",
      " 25  YrRenovated          18143 non-null  int64  \n",
      " 26  Condition            18143 non-null  int64  \n",
      " 27  SaleInstrument       18143 non-null  int64  \n",
      " 28  forced_air_vs_other  18143 non-null  int64  \n",
      " 29  SqFtUnfinished       18143 non-null  int64  \n",
      "dtypes: float64(3), int64(27)\n",
      "memory usage: 4.2 MB\n"
     ]
    }
   ],
   "source": [
    "df_main.info()"
   ]
  },
  {
   "cell_type": "code",
   "execution_count": 10,
   "metadata": {},
   "outputs": [
    {
     "name": "stderr",
     "output_type": "stream",
     "text": [
      "<ipython-input-8-490a43c67b3d>:26: DeprecationWarning: The default dtype for empty Series will be 'object' instead of 'float64' in a future version. Specify a dtype explicitly to silence this warning.\n",
      "  new_pval = pd.Series(index=excluded)\n"
     ]
    },
    {
     "name": "stdout",
     "output_type": "stream",
     "text": [
      "Add  BldgGrade                      with p-value 0.0\n",
      "Add  YrBuilt                        with p-value 1.5466e-230\n",
      "Add  SqFtTotLiving                  with p-value 1.18009e-173\n",
      "Add  Bedrooms                       with p-value 1.52566e-48\n",
      "Add  SqFtGarageAttached             with p-value 3.55739e-44\n",
      "Add  SqFtOpenPorch                  with p-value 2.18649e-25\n",
      "Add  Bath3qtrCount                  with p-value 2.9891e-13\n",
      "Add  BathFullCount                  with p-value 3.81211e-12\n",
      "Add  ViewUtilization                with p-value 8.75658e-10\n",
      "Add  BathHalfCount                  with p-value 1.71044e-08\n",
      "Add  forced_air_vs_other            with p-value 7.75289e-07\n",
      "Add  YrRenovated                    with p-value 7.1777e-05\n",
      "Add  DaylightBasement               with p-value 0.000294647\n",
      "Add  FpMultiStory                   with p-value 6.79533e-06\n",
      "Add  HeatSystem                     with p-value 0.000847527\n",
      "Add  SaleInstrument                 with p-value 0.00141986\n",
      "Add  FinBasementGrade               with p-value 0.00243703\n",
      "Add  HeatSource                     with p-value 0.00358829\n",
      "Add  Condition                      with p-value 0.00609869\n"
     ]
    },
    {
     "data": {
      "text/plain": [
       "['BldgGrade',\n",
       " 'YrBuilt',\n",
       " 'SqFtTotLiving',\n",
       " 'Bedrooms',\n",
       " 'SqFtGarageAttached',\n",
       " 'SqFtOpenPorch',\n",
       " 'Bath3qtrCount',\n",
       " 'BathFullCount',\n",
       " 'ViewUtilization',\n",
       " 'BathHalfCount',\n",
       " 'forced_air_vs_other',\n",
       " 'YrRenovated',\n",
       " 'DaylightBasement',\n",
       " 'FpMultiStory',\n",
       " 'HeatSystem',\n",
       " 'SaleInstrument',\n",
       " 'FinBasementGrade',\n",
       " 'HeatSource',\n",
       " 'Condition']"
      ]
     },
     "execution_count": 10,
     "metadata": {},
     "output_type": "execute_result"
    }
   ],
   "source": [
    "\n",
    "non_na = df_main.dropna()\n",
    "X = non_na.drop(y, axis=1)\n",
    "Y = non_na[y]\n",
    "results = stepwise_selection(X, Y)\n",
    "results"
   ]
  },
  {
   "cell_type": "code",
   "execution_count": 11,
   "metadata": {},
   "outputs": [
    {
     "ename": "AttributeError",
     "evalue": "'Series' object has no attribute 'remove'",
     "output_type": "error",
     "traceback": [
      "\u001b[1;31m---------------------------------------------------------------------------\u001b[0m",
      "\u001b[1;31mAttributeError\u001b[0m                            Traceback (most recent call last)",
      "\u001b[1;32m<ipython-input-11-5e0b04a4c615>\u001b[0m in \u001b[0;36m<module>\u001b[1;34m\u001b[0m\n\u001b[1;32m----> 1\u001b[1;33m \u001b[0mpd\u001b[0m\u001b[1;33m.\u001b[0m\u001b[0mSeries\u001b[0m\u001b[1;33m(\u001b[0m\u001b[0mlist\u001b[0m\u001b[1;33m(\u001b[0m\u001b[0mnon_na\u001b[0m\u001b[1;33m.\u001b[0m\u001b[0mcolumns\u001b[0m\u001b[1;33m)\u001b[0m\u001b[1;33m)\u001b[0m\u001b[1;33m.\u001b[0m\u001b[0mremove\u001b[0m\u001b[1;33m(\u001b[0m\u001b[0mresults\u001b[0m\u001b[1;33m)\u001b[0m\u001b[1;33m\u001b[0m\u001b[1;33m\u001b[0m\u001b[0m\n\u001b[0m",
      "\u001b[1;32m~\\anaconda3\\lib\\site-packages\\pandas\\core\\generic.py\u001b[0m in \u001b[0;36m__getattr__\u001b[1;34m(self, name)\u001b[0m\n\u001b[0;32m   5272\u001b[0m             \u001b[1;32mif\u001b[0m \u001b[0mself\u001b[0m\u001b[1;33m.\u001b[0m\u001b[0m_info_axis\u001b[0m\u001b[1;33m.\u001b[0m\u001b[0m_can_hold_identifiers_and_holds_name\u001b[0m\u001b[1;33m(\u001b[0m\u001b[0mname\u001b[0m\u001b[1;33m)\u001b[0m\u001b[1;33m:\u001b[0m\u001b[1;33m\u001b[0m\u001b[1;33m\u001b[0m\u001b[0m\n\u001b[0;32m   5273\u001b[0m                 \u001b[1;32mreturn\u001b[0m \u001b[0mself\u001b[0m\u001b[1;33m[\u001b[0m\u001b[0mname\u001b[0m\u001b[1;33m]\u001b[0m\u001b[1;33m\u001b[0m\u001b[1;33m\u001b[0m\u001b[0m\n\u001b[1;32m-> 5274\u001b[1;33m             \u001b[1;32mreturn\u001b[0m \u001b[0mobject\u001b[0m\u001b[1;33m.\u001b[0m\u001b[0m__getattribute__\u001b[0m\u001b[1;33m(\u001b[0m\u001b[0mself\u001b[0m\u001b[1;33m,\u001b[0m \u001b[0mname\u001b[0m\u001b[1;33m)\u001b[0m\u001b[1;33m\u001b[0m\u001b[1;33m\u001b[0m\u001b[0m\n\u001b[0m\u001b[0;32m   5275\u001b[0m \u001b[1;33m\u001b[0m\u001b[0m\n\u001b[0;32m   5276\u001b[0m     \u001b[1;32mdef\u001b[0m \u001b[0m__setattr__\u001b[0m\u001b[1;33m(\u001b[0m\u001b[0mself\u001b[0m\u001b[1;33m,\u001b[0m \u001b[0mname\u001b[0m\u001b[1;33m:\u001b[0m \u001b[0mstr\u001b[0m\u001b[1;33m,\u001b[0m \u001b[0mvalue\u001b[0m\u001b[1;33m)\u001b[0m \u001b[1;33m->\u001b[0m \u001b[1;32mNone\u001b[0m\u001b[1;33m:\u001b[0m\u001b[1;33m\u001b[0m\u001b[1;33m\u001b[0m\u001b[0m\n",
      "\u001b[1;31mAttributeError\u001b[0m: 'Series' object has no attribute 'remove'"
     ]
    }
   ],
   "source": [
    "pd.Series(list(non_na.columns)).remove(results)"
   ]
  },
  {
   "cell_type": "code",
   "execution_count": null,
   "metadata": {},
   "outputs": [],
   "source": [
    "xs = ['SqFtTotLiving', 'Bedrooms', 'YrBuilt', 'Condition', 'Stories', 'forced_air_heating_bin', 'BldgGrade']\n",
    "\n",
    "\n",
    "model, df_trimmed = produce_model(df_main, xs, y, 3)\n",
    "model.summary()\n",
    "\n",
    "# fig = plt.figure(figsize=(15,8))\n",
    "# fig = sm.graphics.plot_regress_exog(model, 'YrBuilt', fig=fig)\n",
    "# plt.show()\n",
    "\n",
    "\n",
    "x = 'BldgGrade'\n",
    "qq(df_trimmed, x);\n",
    "dist(df_trimmed, x)\n",
    "scatter(df_trimmed, x, model)"
   ]
  },
  {
   "cell_type": "code",
   "execution_count": null,
   "metadata": {},
   "outputs": [],
   "source": [
    "model.summary()"
   ]
  },
  {
   "cell_type": "code",
   "execution_count": null,
   "metadata": {},
   "outputs": [],
   "source": [
    "sm.graphics.plot_regress_exog(model, 'Bedrooms', fig=plt.figure(figsize=(12, 8)));"
   ]
  },
  {
   "cell_type": "code",
   "execution_count": null,
   "metadata": {},
   "outputs": [],
   "source": [
    "df_main.columns"
   ]
  },
  {
   "cell_type": "code",
   "execution_count": null,
   "metadata": {},
   "outputs": [],
   "source": [
    "#all_data = pd.concat([df_main[y], df_main[xs]], axis=1)\n",
    "CorrMatrix = df_main.corr()\n",
    "\n",
    "\n",
    "CorrMatrix = df_main.iloc[:, :10].corr()\n",
    "plt.figure(figsize=(15,10))\n",
    "sns.heatmap(CorrMatrix, annot=True)\n",
    "plt.title('Correlation Matrix for First 10 Features');\n",
    "\n",
    "CorrMatrix = pd.concat([df_main[y], df_main.iloc[:, 10:20]], axis=1).corr()\n",
    "plt.figure(figsize=(15, 10))\n",
    "sns.heatmap(CorrMatrix, annot=True)\n",
    "plt.title('Correlation Matrix for Next 10 Features')\n",
    "\n",
    "CorrMatrix = pd.concat([df_main[y], df_main.iloc[:, 20:]], axis=1).corr()\n",
    "plt.figure(figsize=(15, 10))\n",
    "sns.heatmap(CorrMatrix, annot=True)\n",
    "plt.title('Correlation Matrix for Remaining Features')"
   ]
  },
  {
   "cell_type": "code",
   "execution_count": null,
   "metadata": {},
   "outputs": [],
   "source": [
    "correlations = df_main.corr().stack().reset_index()\n",
    "correlations = correlations.loc[(correlations.level_0 == 'SalePrice') & (correlations.level_1 != 'SalePrice')]\n",
    "correlations[0] = correlations[0].abs()\n",
    "correlations.columns = ['Dependent', 'Feature', 'Correlation (abs)']\n",
    "\n",
    "correlations.sort_values(by='Correlation (abs)', ascending=False, inplace=True)\n",
    "correlations.reset_index(inplace=True, drop=True)\n",
    "listed = list(correlations.loc[correlations['Correlation (abs)'] > 0.1].Feature.values)\n",
    "\n",
    "df_main[listed].info()"
   ]
  }
 ],
 "metadata": {
  "kernelspec": {
   "display_name": "Python 3",
   "language": "python",
   "name": "python3"
  },
  "language_info": {
   "codemirror_mode": {
    "name": "ipython",
    "version": 3
   },
   "file_extension": ".py",
   "mimetype": "text/x-python",
   "name": "python",
   "nbconvert_exporter": "python",
   "pygments_lexer": "ipython3",
   "version": "3.8.3"
  }
 },
 "nbformat": 4,
 "nbformat_minor": 4
}
